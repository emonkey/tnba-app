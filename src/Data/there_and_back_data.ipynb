{
 "cells": [
  {
   "cell_type": "code",
   "execution_count": 1,
   "metadata": {},
   "outputs": [],
   "source": [
    "import os\n",
    "import csv\n",
    "import geojson\n",
    "import pandas as pd\n",
    "from pandas.io.json import json_normalize"
   ]
  },
  {
   "cell_type": "code",
   "execution_count": 2,
   "metadata": {},
   "outputs": [
    {
     "output_type": "error",
     "ename": "FileExistsError",
     "evalue": "[WinError 183] Cannot create a file when that file already exists: 'c:\\\\Workspace\\\\scratch\\\\out'",
     "traceback": [
      "\u001b[1;31m---------------------------------------------------------------------------\u001b[0m",
      "\u001b[1;31mFileExistsError\u001b[0m                           Traceback (most recent call last)",
      "\u001b[1;32m<ipython-input-2-e08649f53cdc>\u001b[0m in \u001b[0;36m<module>\u001b[1;34m\u001b[0m\n\u001b[0;32m      1\u001b[0m \u001b[0mcwd\u001b[0m \u001b[1;33m=\u001b[0m \u001b[0mos\u001b[0m\u001b[1;33m.\u001b[0m\u001b[0mgetcwd\u001b[0m\u001b[1;33m(\u001b[0m\u001b[1;33m)\u001b[0m\u001b[1;33m\u001b[0m\u001b[1;33m\u001b[0m\u001b[0m\n\u001b[0;32m      2\u001b[0m \u001b[0moutdir\u001b[0m \u001b[1;33m=\u001b[0m \u001b[1;34m'out'\u001b[0m\u001b[1;33m\u001b[0m\u001b[1;33m\u001b[0m\u001b[0m\n\u001b[1;32m----> 3\u001b[1;33m \u001b[0mos\u001b[0m\u001b[1;33m.\u001b[0m\u001b[0mmkdir\u001b[0m\u001b[1;33m(\u001b[0m\u001b[0mos\u001b[0m\u001b[1;33m.\u001b[0m\u001b[0mpath\u001b[0m\u001b[1;33m.\u001b[0m\u001b[0mjoin\u001b[0m\u001b[1;33m(\u001b[0m\u001b[0mcwd\u001b[0m\u001b[1;33m,\u001b[0m \u001b[0moutdir\u001b[0m\u001b[1;33m)\u001b[0m\u001b[1;33m)\u001b[0m\u001b[1;33m\u001b[0m\u001b[1;33m\u001b[0m\u001b[0m\n\u001b[0m",
      "\u001b[1;31mFileExistsError\u001b[0m: [WinError 183] Cannot create a file when that file already exists: 'c:\\\\Workspace\\\\scratch\\\\out'"
     ]
    }
   ],
   "source": [
    "cwd = os.getcwd()\n",
    "outdir = 'out'\n",
    "os.mkdir(os.path.join(cwd, outdir))"
   ]
  },
  {
   "cell_type": "code",
   "execution_count": 3,
   "metadata": {},
   "outputs": [
    {
     "output_type": "execute_result",
     "data": {
      "text/plain": "   SA22018_V1_00            SA22018_V1_NAME   LATITUDE   LONGITUDE\n0         105300                      Kauri -35.629444  174.286657\n1         342000                    Fairlie -44.097011  170.825353\n2         100100                 North Cape -34.505453  172.775550\n3         100200           Rangaunu Harbour -34.916277  173.137443\n4         100300  Inlets Far North District -35.218501  174.158249",
      "text/html": "<div>\n<style scoped>\n    .dataframe tbody tr th:only-of-type {\n        vertical-align: middle;\n    }\n\n    .dataframe tbody tr th {\n        vertical-align: top;\n    }\n\n    .dataframe thead th {\n        text-align: right;\n    }\n</style>\n<table border=\"1\" class=\"dataframe\">\n  <thead>\n    <tr style=\"text-align: right;\">\n      <th></th>\n      <th>SA22018_V1_00</th>\n      <th>SA22018_V1_NAME</th>\n      <th>LATITUDE</th>\n      <th>LONGITUDE</th>\n    </tr>\n  </thead>\n  <tbody>\n    <tr>\n      <th>0</th>\n      <td>105300</td>\n      <td>Kauri</td>\n      <td>-35.629444</td>\n      <td>174.286657</td>\n    </tr>\n    <tr>\n      <th>1</th>\n      <td>342000</td>\n      <td>Fairlie</td>\n      <td>-44.097011</td>\n      <td>170.825353</td>\n    </tr>\n    <tr>\n      <th>2</th>\n      <td>100100</td>\n      <td>North Cape</td>\n      <td>-34.505453</td>\n      <td>172.775550</td>\n    </tr>\n    <tr>\n      <th>3</th>\n      <td>100200</td>\n      <td>Rangaunu Harbour</td>\n      <td>-34.916277</td>\n      <td>173.137443</td>\n    </tr>\n    <tr>\n      <th>4</th>\n      <td>100300</td>\n      <td>Inlets Far North District</td>\n      <td>-35.218501</td>\n      <td>174.158249</td>\n    </tr>\n  </tbody>\n</table>\n</div>"
     },
     "metadata": {},
     "execution_count": 3
    }
   ],
   "source": [
    "centroid_data_path = 'statistical-area-2-2018-centroid-inside.csv'\n",
    "centroid_data_path = os.path.join(cwd, centroid_data_path)\n",
    "\n",
    "centroid_data = pd.read_csv(centroid_data_path,\n",
    "                        usecols = ['SA22018_V1_00', 'SA22018_V1_NAME', 'LATITUDE', 'LONGITUDE']\n",
    "                    )\n",
    "centroid_data.head()"
   ]
  },
  {
   "cell_type": "code",
   "execution_count": 4,
   "metadata": {},
   "outputs": [
    {
     "output_type": "execute_result",
     "data": {
      "text/plain": "   SA2_code_usual_residence_address SA2_name_usual_residence_address  \\\n0                            100100                       North Cape   \n1                            100200                 Rangaunu Harbour   \n2                            100400               Karikari Peninsula   \n3                            100500                         Tangonge   \n4                            100600                          Ahipara   \n\n   SA2_code_educational_address SA2_name_educational_address  Study_at_home  \\\n0                        100100                   North Cape             27   \n1                        100200             Rangaunu Harbour             54   \n2                        100400           Karikari Peninsula             12   \n3                        100500                     Tangonge             15   \n4                        100600                      Ahipara              9   \n\n   Drive_a_car_truck_or_van  Passenger_in_a_car_truck_or_van  Train  Bicycle  \\\n0                      -999                               45   -999     -999   \n1                      -999                               42   -999     -999   \n2                      -999                               18   -999     -999   \n3                      -999                               12   -999     -999   \n4                      -999                                9   -999     -999   \n\n   Walk_or_jog  School_bus  Public_bus  Ferry  Other  Total  \n0           12          60        -999   -999   -999    147  \n1         -999          42        -999   -999   -999    147  \n2         -999          24        -999   -999   -999     54  \n3         -999          15        -999   -999   -999     45  \n4         -999        -999        -999   -999   -999     27  ",
      "text/html": "<div>\n<style scoped>\n    .dataframe tbody tr th:only-of-type {\n        vertical-align: middle;\n    }\n\n    .dataframe tbody tr th {\n        vertical-align: top;\n    }\n\n    .dataframe thead th {\n        text-align: right;\n    }\n</style>\n<table border=\"1\" class=\"dataframe\">\n  <thead>\n    <tr style=\"text-align: right;\">\n      <th></th>\n      <th>SA2_code_usual_residence_address</th>\n      <th>SA2_name_usual_residence_address</th>\n      <th>SA2_code_educational_address</th>\n      <th>SA2_name_educational_address</th>\n      <th>Study_at_home</th>\n      <th>Drive_a_car_truck_or_van</th>\n      <th>Passenger_in_a_car_truck_or_van</th>\n      <th>Train</th>\n      <th>Bicycle</th>\n      <th>Walk_or_jog</th>\n      <th>School_bus</th>\n      <th>Public_bus</th>\n      <th>Ferry</th>\n      <th>Other</th>\n      <th>Total</th>\n    </tr>\n  </thead>\n  <tbody>\n    <tr>\n      <th>0</th>\n      <td>100100</td>\n      <td>North Cape</td>\n      <td>100100</td>\n      <td>North Cape</td>\n      <td>27</td>\n      <td>-999</td>\n      <td>45</td>\n      <td>-999</td>\n      <td>-999</td>\n      <td>12</td>\n      <td>60</td>\n      <td>-999</td>\n      <td>-999</td>\n      <td>-999</td>\n      <td>147</td>\n    </tr>\n    <tr>\n      <th>1</th>\n      <td>100200</td>\n      <td>Rangaunu Harbour</td>\n      <td>100200</td>\n      <td>Rangaunu Harbour</td>\n      <td>54</td>\n      <td>-999</td>\n      <td>42</td>\n      <td>-999</td>\n      <td>-999</td>\n      <td>-999</td>\n      <td>42</td>\n      <td>-999</td>\n      <td>-999</td>\n      <td>-999</td>\n      <td>147</td>\n    </tr>\n    <tr>\n      <th>2</th>\n      <td>100400</td>\n      <td>Karikari Peninsula</td>\n      <td>100400</td>\n      <td>Karikari Peninsula</td>\n      <td>12</td>\n      <td>-999</td>\n      <td>18</td>\n      <td>-999</td>\n      <td>-999</td>\n      <td>-999</td>\n      <td>24</td>\n      <td>-999</td>\n      <td>-999</td>\n      <td>-999</td>\n      <td>54</td>\n    </tr>\n    <tr>\n      <th>3</th>\n      <td>100500</td>\n      <td>Tangonge</td>\n      <td>100500</td>\n      <td>Tangonge</td>\n      <td>15</td>\n      <td>-999</td>\n      <td>12</td>\n      <td>-999</td>\n      <td>-999</td>\n      <td>-999</td>\n      <td>15</td>\n      <td>-999</td>\n      <td>-999</td>\n      <td>-999</td>\n      <td>45</td>\n    </tr>\n    <tr>\n      <th>4</th>\n      <td>100600</td>\n      <td>Ahipara</td>\n      <td>100600</td>\n      <td>Ahipara</td>\n      <td>9</td>\n      <td>-999</td>\n      <td>9</td>\n      <td>-999</td>\n      <td>-999</td>\n      <td>-999</td>\n      <td>-999</td>\n      <td>-999</td>\n      <td>-999</td>\n      <td>-999</td>\n      <td>27</td>\n    </tr>\n  </tbody>\n</table>\n</div>"
     },
     "metadata": {},
     "execution_count": 4
    }
   ],
   "source": [
    "travel_to_education_data_path = '2018-census-main-means-of-travel-to-education-by-statistical.csv'\n",
    "travel_to_education_data_path = os.path.join(cwd, travel_to_education_data_path)\n",
    "\n",
    "education_data = pd.read_csv(travel_to_education_data_path,\n",
    "                        usecols = [\n",
    "                            'SA2_code_usual_residence_address',\n",
    "                            'SA2_name_usual_residence_address',\n",
    "                            'SA2_code_educational_address',\n",
    "                            'SA2_name_educational_address',\n",
    "                            'Study_at_home','Drive_a_car_truck_or_van','Passenger_in_a_car_truck_or_van','Train','Bicycle','Walk_or_jog','School_bus','Public_bus','Ferry','Other','Total']\n",
    "                    )\n",
    "education_data.head()"
   ]
  },
  {
   "cell_type": "code",
   "execution_count": 5,
   "metadata": {},
   "outputs": [
    {
     "output_type": "execute_result",
     "data": {
      "text/plain": "(22430, 15)"
     },
     "metadata": {},
     "execution_count": 5
    }
   ],
   "source": [
    "education_data.shape"
   ]
  },
  {
   "cell_type": "code",
   "execution_count": 6,
   "metadata": {},
   "outputs": [
    {
     "output_type": "execute_result",
     "data": {
      "text/plain": "   SA2_code_usual_residence_address SA2_name_usual_residence_address  \\\n0                            100100                       North Cape   \n1                            100200                 Rangaunu Harbour   \n2                            100400               Karikari Peninsula   \n3                            100500                         Tangonge   \n4                            100600                          Ahipara   \n\n   SA2_code_educational_address SA2_name_educational_address Study_at_home  \\\n0                        100100                   North Cape            27   \n1                        100200             Rangaunu Harbour            54   \n2                        100400           Karikari Peninsula            12   \n3                        100500                     Tangonge            15   \n4                        100600                      Ahipara             9   \n\n  Drive_a_car_truck_or_van Passenger_in_a_car_truck_or_van Train Bicycle  \\\n0                     None                              45  None    None   \n1                     None                              42  None    None   \n2                     None                              18  None    None   \n3                     None                              12  None    None   \n4                     None                               9  None    None   \n\n  Walk_or_jog School_bus Public_bus Ferry Other  Total  \n0          12         60       None  None  None    147  \n1        None         42       None  None  None    147  \n2        None         24       None  None  None     54  \n3        None         15       None  None  None     45  \n4        None       None       None  None  None     27  ",
      "text/html": "<div>\n<style scoped>\n    .dataframe tbody tr th:only-of-type {\n        vertical-align: middle;\n    }\n\n    .dataframe tbody tr th {\n        vertical-align: top;\n    }\n\n    .dataframe thead th {\n        text-align: right;\n    }\n</style>\n<table border=\"1\" class=\"dataframe\">\n  <thead>\n    <tr style=\"text-align: right;\">\n      <th></th>\n      <th>SA2_code_usual_residence_address</th>\n      <th>SA2_name_usual_residence_address</th>\n      <th>SA2_code_educational_address</th>\n      <th>SA2_name_educational_address</th>\n      <th>Study_at_home</th>\n      <th>Drive_a_car_truck_or_van</th>\n      <th>Passenger_in_a_car_truck_or_van</th>\n      <th>Train</th>\n      <th>Bicycle</th>\n      <th>Walk_or_jog</th>\n      <th>School_bus</th>\n      <th>Public_bus</th>\n      <th>Ferry</th>\n      <th>Other</th>\n      <th>Total</th>\n    </tr>\n  </thead>\n  <tbody>\n    <tr>\n      <th>0</th>\n      <td>100100</td>\n      <td>North Cape</td>\n      <td>100100</td>\n      <td>North Cape</td>\n      <td>27</td>\n      <td>None</td>\n      <td>45</td>\n      <td>None</td>\n      <td>None</td>\n      <td>12</td>\n      <td>60</td>\n      <td>None</td>\n      <td>None</td>\n      <td>None</td>\n      <td>147</td>\n    </tr>\n    <tr>\n      <th>1</th>\n      <td>100200</td>\n      <td>Rangaunu Harbour</td>\n      <td>100200</td>\n      <td>Rangaunu Harbour</td>\n      <td>54</td>\n      <td>None</td>\n      <td>42</td>\n      <td>None</td>\n      <td>None</td>\n      <td>None</td>\n      <td>42</td>\n      <td>None</td>\n      <td>None</td>\n      <td>None</td>\n      <td>147</td>\n    </tr>\n    <tr>\n      <th>2</th>\n      <td>100400</td>\n      <td>Karikari Peninsula</td>\n      <td>100400</td>\n      <td>Karikari Peninsula</td>\n      <td>12</td>\n      <td>None</td>\n      <td>18</td>\n      <td>None</td>\n      <td>None</td>\n      <td>None</td>\n      <td>24</td>\n      <td>None</td>\n      <td>None</td>\n      <td>None</td>\n      <td>54</td>\n    </tr>\n    <tr>\n      <th>3</th>\n      <td>100500</td>\n      <td>Tangonge</td>\n      <td>100500</td>\n      <td>Tangonge</td>\n      <td>15</td>\n      <td>None</td>\n      <td>12</td>\n      <td>None</td>\n      <td>None</td>\n      <td>None</td>\n      <td>15</td>\n      <td>None</td>\n      <td>None</td>\n      <td>None</td>\n      <td>45</td>\n    </tr>\n    <tr>\n      <th>4</th>\n      <td>100600</td>\n      <td>Ahipara</td>\n      <td>100600</td>\n      <td>Ahipara</td>\n      <td>9</td>\n      <td>None</td>\n      <td>9</td>\n      <td>None</td>\n      <td>None</td>\n      <td>None</td>\n      <td>None</td>\n      <td>None</td>\n      <td>None</td>\n      <td>None</td>\n      <td>27</td>\n    </tr>\n  </tbody>\n</table>\n</div>"
     },
     "metadata": {},
     "execution_count": 6
    }
   ],
   "source": [
    "for column in education_data:\n",
    "    education_data[column] = education_data[column].replace({-999: None})\n",
    "\n",
    "education_data.head()"
   ]
  },
  {
   "cell_type": "code",
   "execution_count": 7,
   "metadata": {},
   "outputs": [
    {
     "output_type": "execute_result",
     "data": {
      "text/plain": "   SA2_code_usual_residence_address SA2_name_usual_residence_address  \\\n0                            100100                       North Cape   \n1                            100200                 Rangaunu Harbour   \n2                            100400               Karikari Peninsula   \n3                            100500                         Tangonge   \n4                            100600                          Ahipara   \n\n   SA2_code_workplace_address SA2_name_workplace_address  Work_at_home  \\\n0                      100100                 North Cape           144   \n1                      100200           Rangaunu Harbour           210   \n2                      100400         Karikari Peninsula           102   \n3                      100500                   Tangonge           123   \n4                      100600                    Ahipara            63   \n\n   Drive_a_private_car_truck_or_van  Drive_a_company_car_truck_or_van  \\\n0                               117                                33   \n1                                93                                24   \n2                                54                                 6   \n3                                30                                 9   \n4                                18                              -999   \n\n   Passenger_in_a_car_truck_van_or_company_bus  Public_bus  Train  Bicycle  \\\n0                                            9        -999   -999     -999   \n1                                           15        -999   -999     -999   \n2                                            6        -999   -999     -999   \n3                                         -999        -999   -999     -999   \n4                                         -999        -999   -999     -999   \n\n   Walk_or_jog  Ferry  Other  Total  \n0           21   -999      6    330  \n1           12   -999   -999    354  \n2         -999   -999   -999    177  \n3         -999   -999   -999    168  \n4         -999   -999   -999     90  ",
      "text/html": "<div>\n<style scoped>\n    .dataframe tbody tr th:only-of-type {\n        vertical-align: middle;\n    }\n\n    .dataframe tbody tr th {\n        vertical-align: top;\n    }\n\n    .dataframe thead th {\n        text-align: right;\n    }\n</style>\n<table border=\"1\" class=\"dataframe\">\n  <thead>\n    <tr style=\"text-align: right;\">\n      <th></th>\n      <th>SA2_code_usual_residence_address</th>\n      <th>SA2_name_usual_residence_address</th>\n      <th>SA2_code_workplace_address</th>\n      <th>SA2_name_workplace_address</th>\n      <th>Work_at_home</th>\n      <th>Drive_a_private_car_truck_or_van</th>\n      <th>Drive_a_company_car_truck_or_van</th>\n      <th>Passenger_in_a_car_truck_van_or_company_bus</th>\n      <th>Public_bus</th>\n      <th>Train</th>\n      <th>Bicycle</th>\n      <th>Walk_or_jog</th>\n      <th>Ferry</th>\n      <th>Other</th>\n      <th>Total</th>\n    </tr>\n  </thead>\n  <tbody>\n    <tr>\n      <th>0</th>\n      <td>100100</td>\n      <td>North Cape</td>\n      <td>100100</td>\n      <td>North Cape</td>\n      <td>144</td>\n      <td>117</td>\n      <td>33</td>\n      <td>9</td>\n      <td>-999</td>\n      <td>-999</td>\n      <td>-999</td>\n      <td>21</td>\n      <td>-999</td>\n      <td>6</td>\n      <td>330</td>\n    </tr>\n    <tr>\n      <th>1</th>\n      <td>100200</td>\n      <td>Rangaunu Harbour</td>\n      <td>100200</td>\n      <td>Rangaunu Harbour</td>\n      <td>210</td>\n      <td>93</td>\n      <td>24</td>\n      <td>15</td>\n      <td>-999</td>\n      <td>-999</td>\n      <td>-999</td>\n      <td>12</td>\n      <td>-999</td>\n      <td>-999</td>\n      <td>354</td>\n    </tr>\n    <tr>\n      <th>2</th>\n      <td>100400</td>\n      <td>Karikari Peninsula</td>\n      <td>100400</td>\n      <td>Karikari Peninsula</td>\n      <td>102</td>\n      <td>54</td>\n      <td>6</td>\n      <td>6</td>\n      <td>-999</td>\n      <td>-999</td>\n      <td>-999</td>\n      <td>-999</td>\n      <td>-999</td>\n      <td>-999</td>\n      <td>177</td>\n    </tr>\n    <tr>\n      <th>3</th>\n      <td>100500</td>\n      <td>Tangonge</td>\n      <td>100500</td>\n      <td>Tangonge</td>\n      <td>123</td>\n      <td>30</td>\n      <td>9</td>\n      <td>-999</td>\n      <td>-999</td>\n      <td>-999</td>\n      <td>-999</td>\n      <td>-999</td>\n      <td>-999</td>\n      <td>-999</td>\n      <td>168</td>\n    </tr>\n    <tr>\n      <th>4</th>\n      <td>100600</td>\n      <td>Ahipara</td>\n      <td>100600</td>\n      <td>Ahipara</td>\n      <td>63</td>\n      <td>18</td>\n      <td>-999</td>\n      <td>-999</td>\n      <td>-999</td>\n      <td>-999</td>\n      <td>-999</td>\n      <td>-999</td>\n      <td>-999</td>\n      <td>-999</td>\n      <td>90</td>\n    </tr>\n  </tbody>\n</table>\n</div>"
     },
     "metadata": {},
     "execution_count": 7
    }
   ],
   "source": [
    "travel_to_work_data_path = '2018-census-main-means-of-travel-to-work-by-statistical-area.csv'\n",
    "travel_to_education_data_path = os.path.join(cwd, travel_to_education_data_path)\n",
    "\n",
    "work_data = pd.read_csv(travel_to_work_data_path,\n",
    "                                usecols = [\n",
    "                                    'SA2_code_usual_residence_address',\n",
    "                                    'SA2_name_usual_residence_address',\n",
    "                                    'SA2_code_workplace_address',\n",
    "                                    'SA2_name_workplace_address',\n",
    "                                    'Work_at_home','Drive_a_private_car_truck_or_van','Drive_a_company_car_truck_or_van','Passenger_in_a_car_truck_van_or_company_bus','Public_bus','Train','Bicycle','Walk_or_jog','Ferry','Other','Total']\n",
    "                            )\n",
    "work_data.head()"
   ]
  },
  {
   "cell_type": "code",
   "execution_count": 8,
   "metadata": {},
   "outputs": [
    {
     "output_type": "execute_result",
     "data": {
      "text/plain": "(50870, 15)"
     },
     "metadata": {},
     "execution_count": 8
    }
   ],
   "source": [
    "work_data.shape"
   ]
  },
  {
   "cell_type": "code",
   "execution_count": 9,
   "metadata": {},
   "outputs": [
    {
     "output_type": "execute_result",
     "data": {
      "text/plain": "   SA2_code_usual_residence_address SA2_name_usual_residence_address  \\\n0                            100100                       North Cape   \n1                            100200                 Rangaunu Harbour   \n2                            100400               Karikari Peninsula   \n3                            100500                         Tangonge   \n4                            100600                          Ahipara   \n\n   SA2_code_workplace_address SA2_name_workplace_address Work_at_home  \\\n0                      100100                 North Cape          144   \n1                      100200           Rangaunu Harbour          210   \n2                      100400         Karikari Peninsula          102   \n3                      100500                   Tangonge          123   \n4                      100600                    Ahipara           63   \n\n  Drive_a_private_car_truck_or_van Drive_a_company_car_truck_or_van  \\\n0                              117                               33   \n1                               93                               24   \n2                               54                                6   \n3                               30                                9   \n4                               18                             None   \n\n  Passenger_in_a_car_truck_van_or_company_bus Public_bus Train Bicycle  \\\n0                                           9       None  None    None   \n1                                          15       None  None    None   \n2                                           6       None  None    None   \n3                                        None       None  None    None   \n4                                        None       None  None    None   \n\n  Walk_or_jog Ferry Other  Total  \n0          21  None     6    330  \n1          12  None  None    354  \n2        None  None  None    177  \n3        None  None  None    168  \n4        None  None  None     90  ",
      "text/html": "<div>\n<style scoped>\n    .dataframe tbody tr th:only-of-type {\n        vertical-align: middle;\n    }\n\n    .dataframe tbody tr th {\n        vertical-align: top;\n    }\n\n    .dataframe thead th {\n        text-align: right;\n    }\n</style>\n<table border=\"1\" class=\"dataframe\">\n  <thead>\n    <tr style=\"text-align: right;\">\n      <th></th>\n      <th>SA2_code_usual_residence_address</th>\n      <th>SA2_name_usual_residence_address</th>\n      <th>SA2_code_workplace_address</th>\n      <th>SA2_name_workplace_address</th>\n      <th>Work_at_home</th>\n      <th>Drive_a_private_car_truck_or_van</th>\n      <th>Drive_a_company_car_truck_or_van</th>\n      <th>Passenger_in_a_car_truck_van_or_company_bus</th>\n      <th>Public_bus</th>\n      <th>Train</th>\n      <th>Bicycle</th>\n      <th>Walk_or_jog</th>\n      <th>Ferry</th>\n      <th>Other</th>\n      <th>Total</th>\n    </tr>\n  </thead>\n  <tbody>\n    <tr>\n      <th>0</th>\n      <td>100100</td>\n      <td>North Cape</td>\n      <td>100100</td>\n      <td>North Cape</td>\n      <td>144</td>\n      <td>117</td>\n      <td>33</td>\n      <td>9</td>\n      <td>None</td>\n      <td>None</td>\n      <td>None</td>\n      <td>21</td>\n      <td>None</td>\n      <td>6</td>\n      <td>330</td>\n    </tr>\n    <tr>\n      <th>1</th>\n      <td>100200</td>\n      <td>Rangaunu Harbour</td>\n      <td>100200</td>\n      <td>Rangaunu Harbour</td>\n      <td>210</td>\n      <td>93</td>\n      <td>24</td>\n      <td>15</td>\n      <td>None</td>\n      <td>None</td>\n      <td>None</td>\n      <td>12</td>\n      <td>None</td>\n      <td>None</td>\n      <td>354</td>\n    </tr>\n    <tr>\n      <th>2</th>\n      <td>100400</td>\n      <td>Karikari Peninsula</td>\n      <td>100400</td>\n      <td>Karikari Peninsula</td>\n      <td>102</td>\n      <td>54</td>\n      <td>6</td>\n      <td>6</td>\n      <td>None</td>\n      <td>None</td>\n      <td>None</td>\n      <td>None</td>\n      <td>None</td>\n      <td>None</td>\n      <td>177</td>\n    </tr>\n    <tr>\n      <th>3</th>\n      <td>100500</td>\n      <td>Tangonge</td>\n      <td>100500</td>\n      <td>Tangonge</td>\n      <td>123</td>\n      <td>30</td>\n      <td>9</td>\n      <td>None</td>\n      <td>None</td>\n      <td>None</td>\n      <td>None</td>\n      <td>None</td>\n      <td>None</td>\n      <td>None</td>\n      <td>168</td>\n    </tr>\n    <tr>\n      <th>4</th>\n      <td>100600</td>\n      <td>Ahipara</td>\n      <td>100600</td>\n      <td>Ahipara</td>\n      <td>63</td>\n      <td>18</td>\n      <td>None</td>\n      <td>None</td>\n      <td>None</td>\n      <td>None</td>\n      <td>None</td>\n      <td>None</td>\n      <td>None</td>\n      <td>None</td>\n      <td>90</td>\n    </tr>\n  </tbody>\n</table>\n</div>"
     },
     "metadata": {},
     "execution_count": 9
    }
   ],
   "source": [
    "for column in work_data:\n",
    "    work_data[column] = work_data[column].replace({-999: None})\n",
    "\n",
    "work_data.head()"
   ]
  },
  {
   "cell_type": "code",
   "execution_count": 10,
   "metadata": {},
   "outputs": [
    {
     "output_type": "execute_result",
     "data": {
      "text/plain": "   SA2_code_usual_residence_address SA2_name_usual_residence_address  \\\n0                            100100                       North Cape   \n1                            100200                 Rangaunu Harbour   \n2                            100400               Karikari Peninsula   \n3                            100500                         Tangonge   \n4                            100600                          Ahipara   \n\n   SA2_code_educational_address SA2_name_educational_address Study_at_home  \\\n0                        100100                   North Cape            27   \n1                        100200             Rangaunu Harbour            54   \n2                        100400           Karikari Peninsula            12   \n3                        100500                     Tangonge            15   \n4                        100600                      Ahipara             9   \n\n  Drive_a_car_truck_or_van Passenger_in_a_car_truck_or_van Train Bicycle  \\\n0                     None                              45  None    None   \n1                     None                              42  None    None   \n2                     None                              18  None    None   \n3                     None                              12  None    None   \n4                     None                               9  None    None   \n\n  Walk_or_jog School_bus Public_bus Ferry Other  Total  usual_lat   usual_lon  \\\n0          12         60       None  None  None    147 -34.505453  172.775550   \n1        None         42       None  None  None    147 -34.916277  173.137443   \n2        None         24       None  None  None     54 -34.995278  173.378738   \n3        None         15       None  None  None     45 -35.123147  173.218604   \n4        None       None       None  None  None     27 -35.159517  173.160919   \n\n   educational_lat  educational_lon  \n0       -34.505453       172.775550  \n1       -34.916277       173.137443  \n2       -34.995278       173.378738  \n3       -35.123147       173.218604  \n4       -35.159517       173.160919  ",
      "text/html": "<div>\n<style scoped>\n    .dataframe tbody tr th:only-of-type {\n        vertical-align: middle;\n    }\n\n    .dataframe tbody tr th {\n        vertical-align: top;\n    }\n\n    .dataframe thead th {\n        text-align: right;\n    }\n</style>\n<table border=\"1\" class=\"dataframe\">\n  <thead>\n    <tr style=\"text-align: right;\">\n      <th></th>\n      <th>SA2_code_usual_residence_address</th>\n      <th>SA2_name_usual_residence_address</th>\n      <th>SA2_code_educational_address</th>\n      <th>SA2_name_educational_address</th>\n      <th>Study_at_home</th>\n      <th>Drive_a_car_truck_or_van</th>\n      <th>Passenger_in_a_car_truck_or_van</th>\n      <th>Train</th>\n      <th>Bicycle</th>\n      <th>Walk_or_jog</th>\n      <th>School_bus</th>\n      <th>Public_bus</th>\n      <th>Ferry</th>\n      <th>Other</th>\n      <th>Total</th>\n      <th>usual_lat</th>\n      <th>usual_lon</th>\n      <th>educational_lat</th>\n      <th>educational_lon</th>\n    </tr>\n  </thead>\n  <tbody>\n    <tr>\n      <th>0</th>\n      <td>100100</td>\n      <td>North Cape</td>\n      <td>100100</td>\n      <td>North Cape</td>\n      <td>27</td>\n      <td>None</td>\n      <td>45</td>\n      <td>None</td>\n      <td>None</td>\n      <td>12</td>\n      <td>60</td>\n      <td>None</td>\n      <td>None</td>\n      <td>None</td>\n      <td>147</td>\n      <td>-34.505453</td>\n      <td>172.775550</td>\n      <td>-34.505453</td>\n      <td>172.775550</td>\n    </tr>\n    <tr>\n      <th>1</th>\n      <td>100200</td>\n      <td>Rangaunu Harbour</td>\n      <td>100200</td>\n      <td>Rangaunu Harbour</td>\n      <td>54</td>\n      <td>None</td>\n      <td>42</td>\n      <td>None</td>\n      <td>None</td>\n      <td>None</td>\n      <td>42</td>\n      <td>None</td>\n      <td>None</td>\n      <td>None</td>\n      <td>147</td>\n      <td>-34.916277</td>\n      <td>173.137443</td>\n      <td>-34.916277</td>\n      <td>173.137443</td>\n    </tr>\n    <tr>\n      <th>2</th>\n      <td>100400</td>\n      <td>Karikari Peninsula</td>\n      <td>100400</td>\n      <td>Karikari Peninsula</td>\n      <td>12</td>\n      <td>None</td>\n      <td>18</td>\n      <td>None</td>\n      <td>None</td>\n      <td>None</td>\n      <td>24</td>\n      <td>None</td>\n      <td>None</td>\n      <td>None</td>\n      <td>54</td>\n      <td>-34.995278</td>\n      <td>173.378738</td>\n      <td>-34.995278</td>\n      <td>173.378738</td>\n    </tr>\n    <tr>\n      <th>3</th>\n      <td>100500</td>\n      <td>Tangonge</td>\n      <td>100500</td>\n      <td>Tangonge</td>\n      <td>15</td>\n      <td>None</td>\n      <td>12</td>\n      <td>None</td>\n      <td>None</td>\n      <td>None</td>\n      <td>15</td>\n      <td>None</td>\n      <td>None</td>\n      <td>None</td>\n      <td>45</td>\n      <td>-35.123147</td>\n      <td>173.218604</td>\n      <td>-35.123147</td>\n      <td>173.218604</td>\n    </tr>\n    <tr>\n      <th>4</th>\n      <td>100600</td>\n      <td>Ahipara</td>\n      <td>100600</td>\n      <td>Ahipara</td>\n      <td>9</td>\n      <td>None</td>\n      <td>9</td>\n      <td>None</td>\n      <td>None</td>\n      <td>None</td>\n      <td>None</td>\n      <td>None</td>\n      <td>None</td>\n      <td>None</td>\n      <td>27</td>\n      <td>-35.159517</td>\n      <td>173.160919</td>\n      <td>-35.159517</td>\n      <td>173.160919</td>\n    </tr>\n  </tbody>\n</table>\n</div>"
     },
     "metadata": {},
     "execution_count": 10
    }
   ],
   "source": [
    "merged_education_data = education_data \\\n",
    "                            .merge(centroid_data, how = 'left', left_on = ['SA2_code_usual_residence_address'], right_on = 'SA22018_V1_00') \\\n",
    "                            .rename(columns = {'LATITUDE': 'usual_lat', 'LONGITUDE': 'usual_lon'}) \\\n",
    "                            .drop(columns = ['SA22018_V1_00', 'SA22018_V1_NAME']) \\\n",
    "                            .merge(centroid_data, how = 'left', left_on = ['SA2_code_educational_address'], right_on = 'SA22018_V1_00') \\\n",
    "                            .rename(columns = {'LATITUDE': 'educational_lat', 'LONGITUDE': 'educational_lon'}) \\\n",
    "                            .drop(columns = ['SA22018_V1_00', 'SA22018_V1_NAME'])\n",
    "\n",
    "merged_education_data.head()"
   ]
  },
  {
   "cell_type": "code",
   "execution_count": 11,
   "metadata": {},
   "outputs": [
    {
     "output_type": "execute_result",
     "data": {
      "text/plain": "(22430, 19)"
     },
     "metadata": {},
     "execution_count": 11
    }
   ],
   "source": [
    "merged_education_data.shape"
   ]
  },
  {
   "cell_type": "code",
   "execution_count": 12,
   "metadata": {},
   "outputs": [
    {
     "output_type": "execute_result",
     "data": {
      "text/plain": "   SA2_code_usual_residence_address SA2_name_usual_residence_address  \\\n0                            100100                       North Cape   \n1                            100200                 Rangaunu Harbour   \n2                            100400               Karikari Peninsula   \n3                            100500                         Tangonge   \n4                            100600                          Ahipara   \n\n   SA2_code_workplace_address SA2_name_workplace_address Work_at_home  \\\n0                      100100                 North Cape          144   \n1                      100200           Rangaunu Harbour          210   \n2                      100400         Karikari Peninsula          102   \n3                      100500                   Tangonge          123   \n4                      100600                    Ahipara           63   \n\n  Drive_a_private_car_truck_or_van Drive_a_company_car_truck_or_van  \\\n0                              117                               33   \n1                               93                               24   \n2                               54                                6   \n3                               30                                9   \n4                               18                             None   \n\n  Passenger_in_a_car_truck_van_or_company_bus Public_bus Train Bicycle  \\\n0                                           9       None  None    None   \n1                                          15       None  None    None   \n2                                           6       None  None    None   \n3                                        None       None  None    None   \n4                                        None       None  None    None   \n\n  Walk_or_jog Ferry Other  Total  usual_lat   usual_lon   work_lat    work_lon  \n0          21  None     6    330 -34.505453  172.775550 -34.505453  172.775550  \n1          12  None  None    354 -34.916277  173.137443 -34.916277  173.137443  \n2        None  None  None    177 -34.995278  173.378738 -34.995278  173.378738  \n3        None  None  None    168 -35.123147  173.218604 -35.123147  173.218604  \n4        None  None  None     90 -35.159517  173.160919 -35.159517  173.160919  ",
      "text/html": "<div>\n<style scoped>\n    .dataframe tbody tr th:only-of-type {\n        vertical-align: middle;\n    }\n\n    .dataframe tbody tr th {\n        vertical-align: top;\n    }\n\n    .dataframe thead th {\n        text-align: right;\n    }\n</style>\n<table border=\"1\" class=\"dataframe\">\n  <thead>\n    <tr style=\"text-align: right;\">\n      <th></th>\n      <th>SA2_code_usual_residence_address</th>\n      <th>SA2_name_usual_residence_address</th>\n      <th>SA2_code_workplace_address</th>\n      <th>SA2_name_workplace_address</th>\n      <th>Work_at_home</th>\n      <th>Drive_a_private_car_truck_or_van</th>\n      <th>Drive_a_company_car_truck_or_van</th>\n      <th>Passenger_in_a_car_truck_van_or_company_bus</th>\n      <th>Public_bus</th>\n      <th>Train</th>\n      <th>Bicycle</th>\n      <th>Walk_or_jog</th>\n      <th>Ferry</th>\n      <th>Other</th>\n      <th>Total</th>\n      <th>usual_lat</th>\n      <th>usual_lon</th>\n      <th>work_lat</th>\n      <th>work_lon</th>\n    </tr>\n  </thead>\n  <tbody>\n    <tr>\n      <th>0</th>\n      <td>100100</td>\n      <td>North Cape</td>\n      <td>100100</td>\n      <td>North Cape</td>\n      <td>144</td>\n      <td>117</td>\n      <td>33</td>\n      <td>9</td>\n      <td>None</td>\n      <td>None</td>\n      <td>None</td>\n      <td>21</td>\n      <td>None</td>\n      <td>6</td>\n      <td>330</td>\n      <td>-34.505453</td>\n      <td>172.775550</td>\n      <td>-34.505453</td>\n      <td>172.775550</td>\n    </tr>\n    <tr>\n      <th>1</th>\n      <td>100200</td>\n      <td>Rangaunu Harbour</td>\n      <td>100200</td>\n      <td>Rangaunu Harbour</td>\n      <td>210</td>\n      <td>93</td>\n      <td>24</td>\n      <td>15</td>\n      <td>None</td>\n      <td>None</td>\n      <td>None</td>\n      <td>12</td>\n      <td>None</td>\n      <td>None</td>\n      <td>354</td>\n      <td>-34.916277</td>\n      <td>173.137443</td>\n      <td>-34.916277</td>\n      <td>173.137443</td>\n    </tr>\n    <tr>\n      <th>2</th>\n      <td>100400</td>\n      <td>Karikari Peninsula</td>\n      <td>100400</td>\n      <td>Karikari Peninsula</td>\n      <td>102</td>\n      <td>54</td>\n      <td>6</td>\n      <td>6</td>\n      <td>None</td>\n      <td>None</td>\n      <td>None</td>\n      <td>None</td>\n      <td>None</td>\n      <td>None</td>\n      <td>177</td>\n      <td>-34.995278</td>\n      <td>173.378738</td>\n      <td>-34.995278</td>\n      <td>173.378738</td>\n    </tr>\n    <tr>\n      <th>3</th>\n      <td>100500</td>\n      <td>Tangonge</td>\n      <td>100500</td>\n      <td>Tangonge</td>\n      <td>123</td>\n      <td>30</td>\n      <td>9</td>\n      <td>None</td>\n      <td>None</td>\n      <td>None</td>\n      <td>None</td>\n      <td>None</td>\n      <td>None</td>\n      <td>None</td>\n      <td>168</td>\n      <td>-35.123147</td>\n      <td>173.218604</td>\n      <td>-35.123147</td>\n      <td>173.218604</td>\n    </tr>\n    <tr>\n      <th>4</th>\n      <td>100600</td>\n      <td>Ahipara</td>\n      <td>100600</td>\n      <td>Ahipara</td>\n      <td>63</td>\n      <td>18</td>\n      <td>None</td>\n      <td>None</td>\n      <td>None</td>\n      <td>None</td>\n      <td>None</td>\n      <td>None</td>\n      <td>None</td>\n      <td>None</td>\n      <td>90</td>\n      <td>-35.159517</td>\n      <td>173.160919</td>\n      <td>-35.159517</td>\n      <td>173.160919</td>\n    </tr>\n  </tbody>\n</table>\n</div>"
     },
     "metadata": {},
     "execution_count": 12
    }
   ],
   "source": [
    "merged_work_data = work_data \\\n",
    "                    .merge(centroid_data, how = 'left', left_on = ['SA2_code_usual_residence_address'], right_on = 'SA22018_V1_00') \\\n",
    "                    .rename(columns = {'LATITUDE': 'usual_lat', 'LONGITUDE': 'usual_lon'}) \\\n",
    "                    .drop(columns = ['SA22018_V1_00', 'SA22018_V1_NAME']) \\\n",
    "                    .merge(centroid_data, how = 'left', left_on = ['SA2_code_workplace_address'], right_on = 'SA22018_V1_00') \\\n",
    "                    .rename(columns = {'LATITUDE': 'work_lat', 'LONGITUDE': 'work_lon'}) \\\n",
    "                    .drop(columns = ['SA22018_V1_00', 'SA22018_V1_NAME'])\n",
    "\n",
    "merged_work_data.head()"
   ]
  },
  {
   "cell_type": "code",
   "execution_count": 13,
   "metadata": {},
   "outputs": [
    {
     "output_type": "execute_result",
     "data": {
      "text/plain": "(50870, 19)"
     },
     "metadata": {},
     "execution_count": 13
    }
   ],
   "source": [
    "merged_work_data.shape"
   ]
  },
  {
   "cell_type": "code",
   "execution_count": 14,
   "metadata": {},
   "outputs": [],
   "source": [
    "merged_education_data = merged_education_data.rename(columns = {\n",
    "    'usual_lat': 'from_lat',\n",
    "    'usual_lon': 'from_lon',\n",
    "    'educational_lat': 'to_lat',\n",
    "    'educational_lon': 'to_lon'})\n",
    "\n",
    "merged_work_data = merged_work_data.rename(columns = {\n",
    "    'usual_lat': 'from_lat',\n",
    "    'usual_lon': 'from_lon',\n",
    "    'work_lat': 'to_lat',\n",
    "    'work_lon': 'to_lon'})"
   ]
  },
  {
   "cell_type": "code",
   "execution_count": 15,
   "metadata": {},
   "outputs": [],
   "source": [
    "merged_education_data.to_csv(f'{outdir}/tnb_education_1.csv.js', index = False, header = True, quoting = csv.QUOTE_NONNUMERIC)"
   ]
  },
  {
   "cell_type": "code",
   "execution_count": 16,
   "metadata": {},
   "outputs": [],
   "source": [
    "merged_work_data.to_csv(f'{outdir}/tnb_work_1.csv.js', index = False, header = True, quoting = csv.QUOTE_NONNUMERIC)"
   ]
  },
  {
   "cell_type": "code",
   "execution_count": null,
   "metadata": {},
   "outputs": [],
   "source": []
  },
  {
   "cell_type": "code",
   "execution_count": 17,
   "metadata": {},
   "outputs": [],
   "source": [
    "from functools import singledispatch\n",
    "\n",
    "@singledispatch\n",
    "def remove_null_bool(ob):\n",
    "    return ob\n",
    "\n",
    "@remove_null_bool.register(list)\n",
    "def _process_list(ob):\n",
    "    return [remove_null_bool(v) for v in ob]\n",
    "\n",
    "@remove_null_bool.register(dict)\n",
    "def _process_list(ob):\n",
    "    return {k: remove_null_bool(v) for k, v in ob.items() if v is not None}"
   ]
  },
  {
   "cell_type": "code",
   "execution_count": 18,
   "metadata": {},
   "outputs": [],
   "source": [
    "def data2geojson(df, fname):\n",
    "    features = []\n",
    "    insert_features = lambda X: features.append(\n",
    "            geojson.Feature(geometry = geojson.Point(\n",
    "                            (\n",
    "                                X[\"to_lon\"],\n",
    "                                X[\"to_lat\"]\n",
    "                            )\n",
    "                        ),\n",
    "                        properties = dict(\n",
    "                            usual_residence = X[\"SA2_name_usual_residence_address\"],\n",
    "\n",
    "                            education = X[\"SA2_name_educational_address\"],\n",
    "                            study_at_home = X[\"Study_at_home\"],\n",
    "                            drive_a_car_truck_or_van = X[\"Drive_a_car_truck_or_van\"],\n",
    "                            passenger_in_a_car_truck_or_van = X[\"Passenger_in_a_car_truck_or_van\"],\n",
    "                            school_bus = X[\"School_bus\"],\n",
    "\n",
    "                            public_bus = X[\"Public_bus\"],\n",
    "                            train = X[\"Train\"],\n",
    "                            bike = X[\"Bicycle\"],\n",
    "                            walk_or_jog = X[\"Walk_or_jog\"],\n",
    "                            ferry = X[\"Ferry\"],\n",
    "                            other = X[\"Other\"],\n",
    "                            total = X[\"Total\"],\n",
    "                            from_lat = X[\"from_lat\"],\n",
    "                            from_lon = X[\"from_lon\"]\n",
    "                        )\n",
    "                    )\n",
    "            )\n",
    "    df.apply(insert_features, axis = 1)\n",
    "    data = remove_null_bool(geojson.FeatureCollection(features))\n",
    "\n",
    "    with open(f'{outdir}/{fname}.geojson.js', 'w', encoding = 'utf8') as fp:\n",
    "        geojson.dump(data, fp)"
   ]
  },
  {
   "cell_type": "code",
   "execution_count": 19,
   "metadata": {},
   "outputs": [],
   "source": [
    "data2geojson(merged_education_data, 'tnb_education_1')"
   ]
  },
  {
   "cell_type": "code",
   "execution_count": 20,
   "metadata": {},
   "outputs": [],
   "source": [
    "def data2geojson(df, fname):\n",
    "    features = []\n",
    "    insert_features = lambda X: features.append(\n",
    "            geojson.Feature(geometry = geojson.Point(\n",
    "                            (\n",
    "                                X[\"to_lon\"],\n",
    "                                X[\"to_lat\"]\n",
    "                            )\n",
    "                        ),\n",
    "                        properties = dict(\n",
    "                            usual_residence = X[\"SA2_name_usual_residence_address\"],\n",
    "                            \n",
    "                            work = X[\"SA2_name_workplace_address\"],\n",
    "                            work_at_home = X[\"Work_at_home\"],\n",
    "                            drive_a_private_car_truck_or_van = X[\"Drive_a_private_car_truck_or_van\"],\n",
    "                            drive_a_company_car_truck_or_van = X[\"Drive_a_company_car_truck_or_van\"],\n",
    "                            passenger_in_a_car_truck_van_or_company_bus = X[\"Passenger_in_a_car_truck_van_or_company_bus\"],\n",
    "\n",
    "                            public_bus = X[\"Public_bus\"],\n",
    "                            train = X[\"Train\"],\n",
    "                            bike = X[\"Bicycle\"],\n",
    "                            walk_or_jog = X[\"Walk_or_jog\"],\n",
    "                            ferry = X[\"Ferry\"],\n",
    "                            other = X[\"Other\"],\n",
    "                            total = X[\"Total\"],\n",
    "                            from_lat = X[\"from_lat\"],\n",
    "                            from_lon = X[\"from_lon\"]\n",
    "                        )\n",
    "                    )\n",
    "            )\n",
    "    df.apply(insert_features, axis = 1)\n",
    "    data = remove_null_bool(geojson.FeatureCollection(features))\n",
    "\n",
    "    with open(f'{outdir}/{fname}.geojson.js', 'w', encoding = 'utf8') as fp:\n",
    "        geojson.dump(data, fp)"
   ]
  },
  {
   "cell_type": "code",
   "execution_count": 21,
   "metadata": {},
   "outputs": [],
   "source": [
    "data2geojson(merged_work_data, 'tnb_work_1')"
   ]
  },
  {
   "cell_type": "code",
   "execution_count": null,
   "metadata": {},
   "outputs": [],
   "source": []
  },
  {
   "cell_type": "code",
   "execution_count": 22,
   "metadata": {
    "tags": []
   },
   "outputs": [
    {
     "output_type": "stream",
     "name": "stdout",
     "text": "c:\\Workspace\\scratch\\statistical-area-2-2018-generalised.geojson\n"
    }
   ],
   "source": [
    "sa2_gen_data_path = 'statistical-area-2-2018-generalised.geojson'\n",
    "sa2_gen_data_path = os.path.join(cwd, sa2_gen_data_path)\n",
    "print(sa2_gen_data_path)\n",
    "\n",
    "with open(sa2_gen_data_path, 'r') as gf:\n",
    "    sa2_gen_data = geojson.loads(gf.read())"
   ]
  },
  {
   "cell_type": "code",
   "execution_count": 23,
   "metadata": {},
   "outputs": [
    {
     "output_type": "execute_result",
     "data": {
      "text/plain": "(2237, 2)"
     },
     "metadata": {},
     "execution_count": 23
    }
   ],
   "source": [
    "pd.set_option('display.max_colwidth', -1)\n",
    "sa2_gen_df = pd.DataFrame(sa2_gen_data)\n",
    "sa2_gen_df.shape"
   ]
  },
  {
   "cell_type": "code",
   "execution_count": 24,
   "metadata": {},
   "outputs": [
    {
     "output_type": "execute_result",
     "data": {
      "text/plain": "                                                                                                                                                                                                                                                                                                                                                                                                                                                                                                                                                                                                                                                                                                                                                                                                                                                                                                                                                                                                                                                                                                                                                                                                                                                                                                                                                                                                                                                                                                                                                                                                                                                                                                                                                                                                                                                                                                                                                                                                                                                                                                                                                                                                                                                                                                                                                                                                                                                                                                                                                                                                                                                                                                                                                                                                                                                                                                                                                                                                                                                                                                                                                                                                                                                                                                                                                                                               features  \n0  {'type': 'Feature', 'geometry': {'type': 'Polygon', 'coordinates': [[[176.031233, -39.078151], [176.031375, -39.078211], [176.031474, -39.078318], [176.031529, -39.078425], [176.031573, -39.078625], [176.031621, -39.07875], [176.031685, -39.079098], [176.031919, -39.0797], [176.031982, -39.080053], [176.031974, -39.080443], [176.031936, -39.080598], [176.031915, -39.081068], [176.031961, -39.081331], [176.031988, -39.081468], [176.032069, -39.081689], [176.032381, -39.082215], [176.032649, -39.082524], [176.032898, -39.082725], [176.033266, -39.082964], [176.033641, -39.083179], [176.034089, -39.083375], [176.034232, -39.083476], [176.034844, -39.083783], [176.035378, -39.084144], [176.035954, -39.084641], [176.036184, -39.084917], [176.036269, -39.085053], [176.03638, -39.085291], [176.036596, -39.086008], [176.036661, -39.086373], [176.036668, -39.086579], [176.036651, -39.086728], [176.036579, -39.086987], [176.036394, -39.087352], [176.036361, -39.087456], [176.036363, -39.087507], [176.036172, -39.087929], [176.036113, -39.088125], [176.035986, -39.088701], [176.035827, -39.089191], [176.035779, -39.089484], [176.035665, -39.089801], [176.03556, -39.089958], [176.035418, -39.090087], [176.035124, -39.090282], [176.034698, -39.09048], [176.034226, -39.090651], [176.033881, -39.090859], [176.033574, -39.091117], [176.033091, -39.091356], [176.032903, -39.091435], [176.032421, -39.09172], [176.032221, -39.091879], [176.032101, -39.092025], [176.032059, -39.092089], [176.031965, -39.092343], [176.031929, -39.092561], [176.031958, -39.092766], [176.031993, -39.092915], [176.032186, -39.093391], [176.032221, -39.093557], [176.032335, -39.094717], [176.032305, -39.095554], [176.032323, -39.095622], [176.032395, -39.097069], [176.032355, -39.098215], [176.032271, -39.098961], [176.032286, -39.09919], [176.03232, -39.099321], [176.032344, -39.099384], [176.032459, -39.099513], [176.032534, -39.099563], [176.032675, -39.099606], [176.032851, -39.099585], [176.033003, -39.09953], [176.033883, -39.099064], [176.034076, -39.09894], [176.0351, -39.098403], [176.03531, -39.098318], [176.03566, -39.098248], [176.036137, -39.098238], [176.036565, -39.098291], [176.036816, -39.098326], [176.037046, -39.098384], [176.037629, -39.098481], [176.03774, -39.098512], [176.037968, -39.098525], [176.038779, -39.098611], [176.039171, -39.098688], [176.039725, -39.098762], [176.040117, -39.098862], [176.0404, -39.098982], [176.041944, -39.099453], [176.042056, -39.099502], [176.042446, -39.099729], [176.042778, -39.099962], [176.043432, -39.100601], [176.043595, -39.10085], [176.043634, -39.10094], [176.043686, -39.101157], [176.043658, -39.101822], [176.0435, -39.102552], [176.043502, -39.102604], [176.043566, -39.102751], [176.043627, -39.102819], [176.043695, -39.102863], [176.043948, -39.102961], [176.044073, -39.102981], [176.044265, -39.102988], [176.044545, -39.103034], [176.04478, -39.103017], [176.044942, -39.103031], [176.045696, -39.103169], [176.046432, -39.103234], [176.046868, -39.10331], [176.047228, -39.103314], [176.047675, -39.10327], [176.048122, -39.103261], [176.049121, -39.103462], [176.049826, -39.103682], [176.050616, -39.104003], [176.050745, -39.104103], [176.05099, -39.104402], [176.051141, -39.104719], [176.051241, -39.104843], [176.051316, -39.10491], [176.051585, -39.105036], [176.052024, -39.105198], [176.052366, -39.105294], [176.052513, -39.105314], [176.052632, -39.105351], [176.052956, -39.105384], [176.053164, -39.105437], [176.053266, -39.105435], [176.053822, -39.105555], [176.054044, -39.105619], [176.054358, -39.105761], [176.054984, -39.106228], [176.0554, -39.106586], [176.055576, -39.106777], [176.055623, -39.106867], [176.055922, -39.10721], [176.056348, -39.107642], [176.056567, -39.107815], [176.057138, -39.108381], [176.057471, -39.10866], [176.058096, -39.109099], [176.058373, -39.109236], [176.058903, -39.109465], [176.059296, -39.109594], [176.059662, -39.109752], [176.059989, -39.109871], [176.060162, -39.109965], [176.060888, -39.110144], [176.061396, -39.110179], [176.061617, -39.110208], [176.062338, -39.110445], [176.06272, -39.110671], [176.062904, -39.110873], [176.063053, -39.111134], [176.063079, -39.111248], [176.063063, -39.111414], [176.063029, -39.111506], [176.062767, -39.111781], [176.062535, -39.112061], [176.062445, -39.112235], [176.06232, -39.112644], [176.062239, -39.113253], [176.06227, -39.113281], [176.062266, -39.113378], [176.062099, -39.113868], [176.062082, -39.113983], [176.062135, -39.11424], [176.062285, -39.114552], [176.062402, -39.114956], [176.062724, -39.115728], [176.062944, -39.116553], [176.063036, -39.117072], [176.0632, -39.117756], [176.063264, -39.117915], [176.063421, -39.118186], [176.063619, -39.118394], [176.063783, -39.118682], [176.063983, -39.118919], [176.064256, -39.119165], [176.064414, -39.119281], [176.064842, -39.119524], [176.065068, -39.119691], [176.065574, -39.120081], [176.065764, -39.12026], [176.066035, -39.120449], [176.066445, -39.120807], [176.066934, -39.121157], [176.067009, -39.121178], [176.06729, -39.121435], [176.067637, -39.121709], [176.068058, -39.121974], [176.068241, -39.122154], [176.068762, -39.122572], [176.068973, -39.12271], [176.069369, -39.122908], [176.06943, -39.122958], [176.069788, -39.123122], [176.070238, -39.123359], [176.070843, -39.123649], [176.071009, -39.123772], [176.071556, -39.124063], [176.072116, -39.124332], [176.072317, -39.124396], [176.072516, -39.124432], [176.073105, -39.124465], [176.073588, -39.12442], [176.073794, -39.124421], [176.074074, -39.124444], [176.074607, -39.124558], [176.074674, -39.124591], [176.074942, -39.124671], [176.075017, -39.124715], [176.075352, -39.12484], [176.076095, -39.12507], [176.07736, -39.125541], [176.077733, -39.125687], [176.078495, -39.126037], [176.07883, -39.126173], [176.079015, -39.126215], [176.079583, -39.126283], [176.080079, -39.126386], [176.0803, -39.12641], [176.080545, -39.126485], [176.080718, -39.126573], [176.080936, -39.126717], [176.081292, -39.127036], [176.081437, -39.127181], [176.081821, -39.127654], [176.082637, -39.128478], [176.08286, -39.128765], [176.083089, -39.128984], [176.083292, -39.129117], [176.08344, -39.129159], [176.08388, -39.129339], [176.084095, -39.129397], [176.084412, -39.12943], [176.084698, -39.129424], [176.085115, -39.129476], [176.085669, -39.129449], [176.08533, -39.129828], [176.085272, -39.129858], [176.085124, -39.13001], [176.084738, -39.13054], [176.084614, -39.130766], [176.08453, -39.131088], [176.084504, -39.131369], [176.084509, -39.132142], [176.084615, -39.132833], [176.08475, -39.133311], [176.084978, -39.133936], [176.085186, -39.134412], [176.085645, -39.13533], [176.085701, -39.135472], [176.086046, -39.136066], [176.086339, -39.136466], [176.086484, -39.136806], [176.086535, -39.137011], [176.086606, -39.137548], [176.086603, -39.137686], [176.086554, -39.137939], [176.086493, -39.138083], [176.086354, -39.138321], [176.08592, -39.138714], [176.085625, -39.138869], [176.085058, -39.139048], [176.084769, -39.139174], [176.084755, -39.139209], [176.084683, -39.139251], [176.084451, -39.139336], [176.083981, -39.139541], [176.083627, -39.139715], [176.083225, -39.139981], [176.08307, -39.140179], [176.083022, -39.140266], [176.082896, -39.140641], [176.082755, -39.141223], [176.082714, -39.141521], [176.082615, -39.142657], [176.082557, -39.143071], [176.082493, -39.143347], [176.082462, -39.143708], [176.082472, -39.143777], [176.082413, -39.144185], [176.08242, -39.144391], [176.08249, -39.144687], [176.082695, -39.145083], [176.0828, -39.145345], [176.082817, -39.145819], [176.08283, -39.145985], [176.082872, -39.146133], [176.082865, -39.146334], [176.082902, -39.146768], [176.082891, -39.147473], [176.08292, -39.148091], [176.082998, -39.148621], [176.08306, -39.148906], [176.083341, -39.14957], [176.083375, -39.149724], [176.08349, -39.150048], [176.083609, -39.15028], [176.083824, -39.150562], [176.084121, -39.150842], [176.084595, -39.151164], [176.085008, -39.151384], [176.085113, -39.151461], [176.085594, -39.151743], [176.085898, -39.152046], [176.086202, -39.15252], [176.086346, -39.152832], [176.086495, -39.15331], [176.086679, -39.153718], [176.086795, -39.153893], [176.086973, -39.154141], [176.08728, -39.154497], [176.088064, -39.155056], [176.088392, -39.155734], [176.080958, -39.157247], [176.078777, -39.157294], [176.078636, -39.157088], [176.078459, -39.156924], [176.078016, -39.15659], [176.077636, -39.156148], [176.07752, -39.155951], [176.044065, -39.156917], [175.975963, -39.150023], [175.975994, -39.149956], [175.976005, -39.149863], [175.975949, -39.149657], [175.975806, -39.14943], [175.97542, -39.148986], [175.975295, -39.148754], [175.975267, -39.148629], [175.975235, -39.148567], [175.975227, -39.148406], [175.975287, -39.148278], [175.975309, -39.148123], [175.975403, -39.147931], [175.975572, -39.147479], [175.975745, -39.14709], [175.975934, -39.146746], [175.97608, -39.146415], [175.976408, -39.145895], [175.976489, -39.145727], [175.976922, -39.145106], [175.977471, -39.144425], [175.977938, -39.143907], [175.978214, -39.143509], [175.978288, -39.143381], [175.978705, -39.142411], [175.978902, -39.142073], [175.979135, -39.141722], [175.97929, -39.141414], [175.979378, -39.141101], [175.979592, -39.14051], [175.979806, -39.140063], [175.97986, -39.139671], [175.979837, -39.139345], [175.979846, -39.139225], [175.979928, -39.138781], [175.979992, -39.13859], [175.980115, -39.138093], [175.980259, -39.137716], [175.980276, -39.137618], [175.980434, -39.137229], [175.980529, -39.137055], [175.980561, -39.136951], [175.980697, -39.136734], [175.980817, -39.136479], [175.980935, -39.136326], [175.981009, -39.136186], [175.981153, -39.135804], [175.981292, -39.135496], [175.981386, -39.135315], [175.98147, -39.135227], [175.981662, -39.135072], [175.98174, -39.13503], [175.98198, -39.134954], [175.982454, -39.134888], [175.982723, -39.134823], [175.983274, -39.134647], [175.983535, -39.134582], [175.983815, -39.134424], [175.983992, -39.134293], [175.984076, -39.134204], [175.984117, -39.134134], [175.984167, -39.133795], [175.9841, -39.133321], [175.984035, -39.133053], [175.983522, -39.131704], [175.983433, -39.131386], [175.983398, -39.130974], [175.983404, -39.130785], [175.983301, -39.130323], [175.983243, -39.130182], [175.983067, -39.129889], [175.982757, -39.129422], [175.98269, -39.129241], [175.982504, -39.128891], [175.982317, -39.128374], [175.982278, -39.128169], [175.982243, -39.127746], [175.9823, -39.126942], [175.982367, -39.126659], [175.982512, -39.126465], [175.982995, -39.126101], [175.983173, -39.125993], [175.983548, -39.125827], [175.983734, -39.125719], [175.983953, -39.125534], [175.984162, -39.125305], [175.984324, -39.125002], [175.984389, -39.124816], [175.984476, -39.124183], [175.984514, -39.124056], [175.984619, -39.123789], [175.984782, -39.123504], [175.984858, -39.12341], [175.985134, -39.123189], [175.98531, -39.123018], [175.985912, -39.122398], [175.986134, -39.122128], [175.986632, -39.121471], [175.986735, -39.121314], [175.987364, -39.120641], [175.98785, -39.120191], [175.988254, -39.119881], [175.988457, -39.119663], [175.988629, -39.119412], [175.988725, -39.119128], [175.988706, -39.118727], [175.98861, -39.118409], [175.988531, -39.117999], [175.988499, -39.117937], [175.988449, -39.11768], [175.988416, -39.117601], [175.988379, -39.117143], [175.988447, -39.116723], [175.988799, -39.115927], [175.988895, -39.115781], [175.988993, -39.115692], [175.989207, -39.115548], [175.989532, -39.11543], [175.989956, -39.115216], [175.99051, -39.114965], [175.991131, -39.114735], [175.99145, -39.114639], [175.991675, -39.114592], [175.992256, -39.114432], [175.992797, -39.114365], [175.993024, -39.114364], [175.99332, -39.114389], [175.993779, -39.114456], [175.994451, -39.114511], [175.994767, -39.114507], [175.995045, -39.114482], [175.99519, -39.114449], [175.995609, -39.114299], [175.995718, -39.114273], [175.995792, -39.114276], [175.996164, -39.114214], [175.996526, -39.1141], [175.997161, -39.113857], [175.997391, -39.113747], [175.998061, -39.113607], [175.998295, -39.113589], [175.99867, -39.113589], [175.998899, -39.113611], [175.999115, -39.113662], [175.99958, -39.113855], [175.999649, -39.113899], [175.999927, -39.114022], [176.000465, -39.114207], [176.000643, -39.114247], [176.000843, -39.114265], [176.001137, -39.114262], [176.001422, -39.114224], [176.001989, -39.114099], [176.002203, -39.113972], [176.002455, -39.113856], [176.002752, -39.113772], [176.003041, -39.113649], [176.003241, -39.113534], [176.003412, -39.113415], [176.003977, -39.112939], [176.004143, -39.112728], [176.004521, -39.11204], [176.0046, -39.111843], [176.004668, -39.111428], [176.004756, -39.11111], [176.00484, -39.110884], [176.004935, -39.110721], [176.005109, -39.110521], [176.005294, -39.110389], [176.006188, -39.110013], [176.006861, -39.109638], [176.007031, -39.109524], [176.00729, -39.109235], [176.007406, -39.10906], [176.007506, -39.108839], [176.007497, -39.108816], [176.007541, -39.108666], [176.007565, -39.108407], [176.007533, -39.10819], [176.007489, -39.107595], [176.007386, -39.106836], [176.007292, -39.106564], [176.006912, -39.10599], [176.006654, -39.105688], [176.006504, -39.105463], [176.006254, -39.105161], [176.00583, -39.104755], [176.005458, -39.104359], [176.005223, -39.104057], [176.005154, -39.103996], [176.004997, -39.1038], [176.00486, -39.1037], [176.004782, -39.103605], [176.004621, -39.103318], [176.004542, -39.103051], [176.004529, -39.102644], [176.004569, -39.102402], [176.004656, -39.102216], [176.004884, -39.101917], [176.005178, -39.101616], [176.005261, -39.101504], [176.005499, -39.101262], [176.005526, -39.101216], [176.006094, -39.100719], [176.006143, -39.100633], [176.00674, -39.099853], [176.007272, -39.09932], [176.007551, -39.099097], [176.008133, -39.098729], [176.00853, -39.098538], [176.008661, -39.098495], [176.008674, -39.098472], [176.008776, -39.09843], [176.009596, -39.098149], [176.009829, -39.098087], [176.010526, -39.09786], [176.010823, -39.097739], [176.011227, -39.09753], [176.011541, -39.097272], [176.011632, -39.097167], [176.012015, -39.096546], [176.012234, -39.096095], [176.012361, -39.095737], [176.012633, -39.095118], [176.012659, -39.095009], [176.01267, -39.094894], [176.012649, -39.094528], [176.012657, -39.094328], [176.012682, -39.094195], [176.012674, -39.093743], [176.012593, -39.093121], [176.012531, -39.092824], [176.012521, -39.092527], [176.012569, -39.092205], [176.012817, -39.091747], [176.012973, -39.091595], [176.013419, -39.091311], [176.014134, -39.090986], [176.014962, -39.090711], [176.015412, -39.090581], [176.015672, -39.090456], [176.015952, -39.090272], [176.016229, -39.089991], [176.016412, -39.089759], [176.016654, -39.089341], [176.017225, -39.087817], [176.017342, -39.087586], [176.017447, -39.087452], [176.017562, -39.087358], [176.017663, -39.087304], [176.01801, -39.087159], [176.018789, -39.086971], [176.019169, -39.086917], [176.019445, -39.086837], [176.019632, -39.086735], [176.020289, -39.086206], [176.02041, -39.086095], [176.020594, -39.085873], [176.020795, -39.085554], [176.021132, -39.084894], [176.021216, -39.084766], [176.021289, -39.084564], [176.021387, -39.084408], [176.021413, -39.084321], [176.021517, -39.084153], [176.021657, -39.083955], [176.021855, -39.083728], [176.022069, -39.083546], [176.022507, -39.083273], [176.022743, -39.08309], [176.023066, -39.082883], [176.023311, -39.082752], [176.023529, -39.082679], [176.023889, -39.082677], [176.02397, -39.082704], [176.024531, -39.082789], [176.024747, -39.082859], [176.025187, -39.082855], [176.025522, -39.082774], [176.025725, -39.082695], [176.025984, -39.082552], [176.026178, -39.082427], [176.026428, -39.082239], [176.026656, -39.082028], [176.026858, -39.081726], [176.026943, -39.081644], [176.027253, -39.081265], [176.027601, -39.080943], [176.027807, -39.080721], [176.028071, -39.080515], [176.028773, -39.080013], [176.029184, -39.079603], [176.029498, -39.079339], [176.03018, -39.078895], [176.030358, -39.078748], [176.030645, -39.078559], [176.030872, -39.078308], [176.031, -39.078207], [176.031079, -39.078166], [176.031167, -39.078147], [176.031233, -39.078151]]]}, 'properties': {'name': 'Te More', 'styleUrl': '#statistical-area-2-2018-generalisedId', 'styleHash': '-75a022a1', 'stroke': '#ffff00', 'stroke-opacity': 1, 'stroke-width': 2, 'fill': '#ffff00', 'fill-opacity': 0.4980392156862745, 'SA22018_V1_00': '190000', 'SA22018_V1_NAME': 'Te More', 'LAND_AREA_SQ_KM': '47.9225809', 'Shape_Length': '33420.011116', 'AREA_SQ_KM': '47.9225809'}}  ",
      "text/html": "<div>\n<style scoped>\n    .dataframe tbody tr th:only-of-type {\n        vertical-align: middle;\n    }\n\n    .dataframe tbody tr th {\n        vertical-align: top;\n    }\n\n    .dataframe thead th {\n        text-align: right;\n    }\n</style>\n<table border=\"1\" class=\"dataframe\">\n  <thead>\n    <tr style=\"text-align: right;\">\n      <th></th>\n      <th>type</th>\n      <th>features</th>\n    </tr>\n  </thead>\n  <tbody>\n    <tr>\n      <th>0</th>\n      <td>FeatureCollection</td>\n      <td>{'type': 'Feature', 'geometry': {'type': 'Polygon', 'coordinates': [[[176.031233, -39.078151], [176.031375, -39.078211], [176.031474, -39.078318], [176.031529, -39.078425], [176.031573, -39.078625], [176.031621, -39.07875], [176.031685, -39.079098], [176.031919, -39.0797], [176.031982, -39.080053], [176.031974, -39.080443], [176.031936, -39.080598], [176.031915, -39.081068], [176.031961, -39.081331], [176.031988, -39.081468], [176.032069, -39.081689], [176.032381, -39.082215], [176.032649, -39.082524], [176.032898, -39.082725], [176.033266, -39.082964], [176.033641, -39.083179], [176.034089, -39.083375], [176.034232, -39.083476], [176.034844, -39.083783], [176.035378, -39.084144], [176.035954, -39.084641], [176.036184, -39.084917], [176.036269, -39.085053], [176.03638, -39.085291], [176.036596, -39.086008], [176.036661, -39.086373], [176.036668, -39.086579], [176.036651, -39.086728], [176.036579, -39.086987], [176.036394, -39.087352], [176.036361, -39.087456], [176.036363, -39.087507], [176.036172, -39.087929], [176.036113, -39.088125], [176.035986, -39.088701], [176.035827, -39.089191], [176.035779, -39.089484], [176.035665, -39.089801], [176.03556, -39.089958], [176.035418, -39.090087], [176.035124, -39.090282], [176.034698, -39.09048], [176.034226, -39.090651], [176.033881, -39.090859], [176.033574, -39.091117], [176.033091, -39.091356], [176.032903, -39.091435], [176.032421, -39.09172], [176.032221, -39.091879], [176.032101, -39.092025], [176.032059, -39.092089], [176.031965, -39.092343], [176.031929, -39.092561], [176.031958, -39.092766], [176.031993, -39.092915], [176.032186, -39.093391], [176.032221, -39.093557], [176.032335, -39.094717], [176.032305, -39.095554], [176.032323, -39.095622], [176.032395, -39.097069], [176.032355, -39.098215], [176.032271, -39.098961], [176.032286, -39.09919], [176.03232, -39.099321], [176.032344, -39.099384], [176.032459, -39.099513], [176.032534, -39.099563], [176.032675, -39.099606], [176.032851, -39.099585], [176.033003, -39.09953], [176.033883, -39.099064], [176.034076, -39.09894], [176.0351, -39.098403], [176.03531, -39.098318], [176.03566, -39.098248], [176.036137, -39.098238], [176.036565, -39.098291], [176.036816, -39.098326], [176.037046, -39.098384], [176.037629, -39.098481], [176.03774, -39.098512], [176.037968, -39.098525], [176.038779, -39.098611], [176.039171, -39.098688], [176.039725, -39.098762], [176.040117, -39.098862], [176.0404, -39.098982], [176.041944, -39.099453], [176.042056, -39.099502], [176.042446, -39.099729], [176.042778, -39.099962], [176.043432, -39.100601], [176.043595, -39.10085], [176.043634, -39.10094], [176.043686, -39.101157], [176.043658, -39.101822], [176.0435, -39.102552], [176.043502, -39.102604], [176.043566, -39.102751], [176.043627, -39.102819], [176.043695, -39.102863], [176.043948, -39.102961], [176.044073, -39.102981], [176.044265, -39.102988], [176.044545, -39.103034], [176.04478, -39.103017], [176.044942, -39.103031], [176.045696, -39.103169], [176.046432, -39.103234], [176.046868, -39.10331], [176.047228, -39.103314], [176.047675, -39.10327], [176.048122, -39.103261], [176.049121, -39.103462], [176.049826, -39.103682], [176.050616, -39.104003], [176.050745, -39.104103], [176.05099, -39.104402], [176.051141, -39.104719], [176.051241, -39.104843], [176.051316, -39.10491], [176.051585, -39.105036], [176.052024, -39.105198], [176.052366, -39.105294], [176.052513, -39.105314], [176.052632, -39.105351], [176.052956, -39.105384], [176.053164, -39.105437], [176.053266, -39.105435], [176.053822, -39.105555], [176.054044, -39.105619], [176.054358, -39.105761], [176.054984, -39.106228], [176.0554, -39.106586], [176.055576, -39.106777], [176.055623, -39.106867], [176.055922, -39.10721], [176.056348, -39.107642], [176.056567, -39.107815], [176.057138, -39.108381], [176.057471, -39.10866], [176.058096, -39.109099], [176.058373, -39.109236], [176.058903, -39.109465], [176.059296, -39.109594], [176.059662, -39.109752], [176.059989, -39.109871], [176.060162, -39.109965], [176.060888, -39.110144], [176.061396, -39.110179], [176.061617, -39.110208], [176.062338, -39.110445], [176.06272, -39.110671], [176.062904, -39.110873], [176.063053, -39.111134], [176.063079, -39.111248], [176.063063, -39.111414], [176.063029, -39.111506], [176.062767, -39.111781], [176.062535, -39.112061], [176.062445, -39.112235], [176.06232, -39.112644], [176.062239, -39.113253], [176.06227, -39.113281], [176.062266, -39.113378], [176.062099, -39.113868], [176.062082, -39.113983], [176.062135, -39.11424], [176.062285, -39.114552], [176.062402, -39.114956], [176.062724, -39.115728], [176.062944, -39.116553], [176.063036, -39.117072], [176.0632, -39.117756], [176.063264, -39.117915], [176.063421, -39.118186], [176.063619, -39.118394], [176.063783, -39.118682], [176.063983, -39.118919], [176.064256, -39.119165], [176.064414, -39.119281], [176.064842, -39.119524], [176.065068, -39.119691], [176.065574, -39.120081], [176.065764, -39.12026], [176.066035, -39.120449], [176.066445, -39.120807], [176.066934, -39.121157], [176.067009, -39.121178], [176.06729, -39.121435], [176.067637, -39.121709], [176.068058, -39.121974], [176.068241, -39.122154], [176.068762, -39.122572], [176.068973, -39.12271], [176.069369, -39.122908], [176.06943, -39.122958], [176.069788, -39.123122], [176.070238, -39.123359], [176.070843, -39.123649], [176.071009, -39.123772], [176.071556, -39.124063], [176.072116, -39.124332], [176.072317, -39.124396], [176.072516, -39.124432], [176.073105, -39.124465], [176.073588, -39.12442], [176.073794, -39.124421], [176.074074, -39.124444], [176.074607, -39.124558], [176.074674, -39.124591], [176.074942, -39.124671], [176.075017, -39.124715], [176.075352, -39.12484], [176.076095, -39.12507], [176.07736, -39.125541], [176.077733, -39.125687], [176.078495, -39.126037], [176.07883, -39.126173], [176.079015, -39.126215], [176.079583, -39.126283], [176.080079, -39.126386], [176.0803, -39.12641], [176.080545, -39.126485], [176.080718, -39.126573], [176.080936, -39.126717], [176.081292, -39.127036], [176.081437, -39.127181], [176.081821, -39.127654], [176.082637, -39.128478], [176.08286, -39.128765], [176.083089, -39.128984], [176.083292, -39.129117], [176.08344, -39.129159], [176.08388, -39.129339], [176.084095, -39.129397], [176.084412, -39.12943], [176.084698, -39.129424], [176.085115, -39.129476], [176.085669, -39.129449], [176.08533, -39.129828], [176.085272, -39.129858], [176.085124, -39.13001], [176.084738, -39.13054], [176.084614, -39.130766], [176.08453, -39.131088], [176.084504, -39.131369], [176.084509, -39.132142], [176.084615, -39.132833], [176.08475, -39.133311], [176.084978, -39.133936], [176.085186, -39.134412], [176.085645, -39.13533], [176.085701, -39.135472], [176.086046, -39.136066], [176.086339, -39.136466], [176.086484, -39.136806], [176.086535, -39.137011], [176.086606, -39.137548], [176.086603, -39.137686], [176.086554, -39.137939], [176.086493, -39.138083], [176.086354, -39.138321], [176.08592, -39.138714], [176.085625, -39.138869], [176.085058, -39.139048], [176.084769, -39.139174], [176.084755, -39.139209], [176.084683, -39.139251], [176.084451, -39.139336], [176.083981, -39.139541], [176.083627, -39.139715], [176.083225, -39.139981], [176.08307, -39.140179], [176.083022, -39.140266], [176.082896, -39.140641], [176.082755, -39.141223], [176.082714, -39.141521], [176.082615, -39.142657], [176.082557, -39.143071], [176.082493, -39.143347], [176.082462, -39.143708], [176.082472, -39.143777], [176.082413, -39.144185], [176.08242, -39.144391], [176.08249, -39.144687], [176.082695, -39.145083], [176.0828, -39.145345], [176.082817, -39.145819], [176.08283, -39.145985], [176.082872, -39.146133], [176.082865, -39.146334], [176.082902, -39.146768], [176.082891, -39.147473], [176.08292, -39.148091], [176.082998, -39.148621], [176.08306, -39.148906], [176.083341, -39.14957], [176.083375, -39.149724], [176.08349, -39.150048], [176.083609, -39.15028], [176.083824, -39.150562], [176.084121, -39.150842], [176.084595, -39.151164], [176.085008, -39.151384], [176.085113, -39.151461], [176.085594, -39.151743], [176.085898, -39.152046], [176.086202, -39.15252], [176.086346, -39.152832], [176.086495, -39.15331], [176.086679, -39.153718], [176.086795, -39.153893], [176.086973, -39.154141], [176.08728, -39.154497], [176.088064, -39.155056], [176.088392, -39.155734], [176.080958, -39.157247], [176.078777, -39.157294], [176.078636, -39.157088], [176.078459, -39.156924], [176.078016, -39.15659], [176.077636, -39.156148], [176.07752, -39.155951], [176.044065, -39.156917], [175.975963, -39.150023], [175.975994, -39.149956], [175.976005, -39.149863], [175.975949, -39.149657], [175.975806, -39.14943], [175.97542, -39.148986], [175.975295, -39.148754], [175.975267, -39.148629], [175.975235, -39.148567], [175.975227, -39.148406], [175.975287, -39.148278], [175.975309, -39.148123], [175.975403, -39.147931], [175.975572, -39.147479], [175.975745, -39.14709], [175.975934, -39.146746], [175.97608, -39.146415], [175.976408, -39.145895], [175.976489, -39.145727], [175.976922, -39.145106], [175.977471, -39.144425], [175.977938, -39.143907], [175.978214, -39.143509], [175.978288, -39.143381], [175.978705, -39.142411], [175.978902, -39.142073], [175.979135, -39.141722], [175.97929, -39.141414], [175.979378, -39.141101], [175.979592, -39.14051], [175.979806, -39.140063], [175.97986, -39.139671], [175.979837, -39.139345], [175.979846, -39.139225], [175.979928, -39.138781], [175.979992, -39.13859], [175.980115, -39.138093], [175.980259, -39.137716], [175.980276, -39.137618], [175.980434, -39.137229], [175.980529, -39.137055], [175.980561, -39.136951], [175.980697, -39.136734], [175.980817, -39.136479], [175.980935, -39.136326], [175.981009, -39.136186], [175.981153, -39.135804], [175.981292, -39.135496], [175.981386, -39.135315], [175.98147, -39.135227], [175.981662, -39.135072], [175.98174, -39.13503], [175.98198, -39.134954], [175.982454, -39.134888], [175.982723, -39.134823], [175.983274, -39.134647], [175.983535, -39.134582], [175.983815, -39.134424], [175.983992, -39.134293], [175.984076, -39.134204], [175.984117, -39.134134], [175.984167, -39.133795], [175.9841, -39.133321], [175.984035, -39.133053], [175.983522, -39.131704], [175.983433, -39.131386], [175.983398, -39.130974], [175.983404, -39.130785], [175.983301, -39.130323], [175.983243, -39.130182], [175.983067, -39.129889], [175.982757, -39.129422], [175.98269, -39.129241], [175.982504, -39.128891], [175.982317, -39.128374], [175.982278, -39.128169], [175.982243, -39.127746], [175.9823, -39.126942], [175.982367, -39.126659], [175.982512, -39.126465], [175.982995, -39.126101], [175.983173, -39.125993], [175.983548, -39.125827], [175.983734, -39.125719], [175.983953, -39.125534], [175.984162, -39.125305], [175.984324, -39.125002], [175.984389, -39.124816], [175.984476, -39.124183], [175.984514, -39.124056], [175.984619, -39.123789], [175.984782, -39.123504], [175.984858, -39.12341], [175.985134, -39.123189], [175.98531, -39.123018], [175.985912, -39.122398], [175.986134, -39.122128], [175.986632, -39.121471], [175.986735, -39.121314], [175.987364, -39.120641], [175.98785, -39.120191], [175.988254, -39.119881], [175.988457, -39.119663], [175.988629, -39.119412], [175.988725, -39.119128], [175.988706, -39.118727], [175.98861, -39.118409], [175.988531, -39.117999], [175.988499, -39.117937], [175.988449, -39.11768], [175.988416, -39.117601], [175.988379, -39.117143], [175.988447, -39.116723], [175.988799, -39.115927], [175.988895, -39.115781], [175.988993, -39.115692], [175.989207, -39.115548], [175.989532, -39.11543], [175.989956, -39.115216], [175.99051, -39.114965], [175.991131, -39.114735], [175.99145, -39.114639], [175.991675, -39.114592], [175.992256, -39.114432], [175.992797, -39.114365], [175.993024, -39.114364], [175.99332, -39.114389], [175.993779, -39.114456], [175.994451, -39.114511], [175.994767, -39.114507], [175.995045, -39.114482], [175.99519, -39.114449], [175.995609, -39.114299], [175.995718, -39.114273], [175.995792, -39.114276], [175.996164, -39.114214], [175.996526, -39.1141], [175.997161, -39.113857], [175.997391, -39.113747], [175.998061, -39.113607], [175.998295, -39.113589], [175.99867, -39.113589], [175.998899, -39.113611], [175.999115, -39.113662], [175.99958, -39.113855], [175.999649, -39.113899], [175.999927, -39.114022], [176.000465, -39.114207], [176.000643, -39.114247], [176.000843, -39.114265], [176.001137, -39.114262], [176.001422, -39.114224], [176.001989, -39.114099], [176.002203, -39.113972], [176.002455, -39.113856], [176.002752, -39.113772], [176.003041, -39.113649], [176.003241, -39.113534], [176.003412, -39.113415], [176.003977, -39.112939], [176.004143, -39.112728], [176.004521, -39.11204], [176.0046, -39.111843], [176.004668, -39.111428], [176.004756, -39.11111], [176.00484, -39.110884], [176.004935, -39.110721], [176.005109, -39.110521], [176.005294, -39.110389], [176.006188, -39.110013], [176.006861, -39.109638], [176.007031, -39.109524], [176.00729, -39.109235], [176.007406, -39.10906], [176.007506, -39.108839], [176.007497, -39.108816], [176.007541, -39.108666], [176.007565, -39.108407], [176.007533, -39.10819], [176.007489, -39.107595], [176.007386, -39.106836], [176.007292, -39.106564], [176.006912, -39.10599], [176.006654, -39.105688], [176.006504, -39.105463], [176.006254, -39.105161], [176.00583, -39.104755], [176.005458, -39.104359], [176.005223, -39.104057], [176.005154, -39.103996], [176.004997, -39.1038], [176.00486, -39.1037], [176.004782, -39.103605], [176.004621, -39.103318], [176.004542, -39.103051], [176.004529, -39.102644], [176.004569, -39.102402], [176.004656, -39.102216], [176.004884, -39.101917], [176.005178, -39.101616], [176.005261, -39.101504], [176.005499, -39.101262], [176.005526, -39.101216], [176.006094, -39.100719], [176.006143, -39.100633], [176.00674, -39.099853], [176.007272, -39.09932], [176.007551, -39.099097], [176.008133, -39.098729], [176.00853, -39.098538], [176.008661, -39.098495], [176.008674, -39.098472], [176.008776, -39.09843], [176.009596, -39.098149], [176.009829, -39.098087], [176.010526, -39.09786], [176.010823, -39.097739], [176.011227, -39.09753], [176.011541, -39.097272], [176.011632, -39.097167], [176.012015, -39.096546], [176.012234, -39.096095], [176.012361, -39.095737], [176.012633, -39.095118], [176.012659, -39.095009], [176.01267, -39.094894], [176.012649, -39.094528], [176.012657, -39.094328], [176.012682, -39.094195], [176.012674, -39.093743], [176.012593, -39.093121], [176.012531, -39.092824], [176.012521, -39.092527], [176.012569, -39.092205], [176.012817, -39.091747], [176.012973, -39.091595], [176.013419, -39.091311], [176.014134, -39.090986], [176.014962, -39.090711], [176.015412, -39.090581], [176.015672, -39.090456], [176.015952, -39.090272], [176.016229, -39.089991], [176.016412, -39.089759], [176.016654, -39.089341], [176.017225, -39.087817], [176.017342, -39.087586], [176.017447, -39.087452], [176.017562, -39.087358], [176.017663, -39.087304], [176.01801, -39.087159], [176.018789, -39.086971], [176.019169, -39.086917], [176.019445, -39.086837], [176.019632, -39.086735], [176.020289, -39.086206], [176.02041, -39.086095], [176.020594, -39.085873], [176.020795, -39.085554], [176.021132, -39.084894], [176.021216, -39.084766], [176.021289, -39.084564], [176.021387, -39.084408], [176.021413, -39.084321], [176.021517, -39.084153], [176.021657, -39.083955], [176.021855, -39.083728], [176.022069, -39.083546], [176.022507, -39.083273], [176.022743, -39.08309], [176.023066, -39.082883], [176.023311, -39.082752], [176.023529, -39.082679], [176.023889, -39.082677], [176.02397, -39.082704], [176.024531, -39.082789], [176.024747, -39.082859], [176.025187, -39.082855], [176.025522, -39.082774], [176.025725, -39.082695], [176.025984, -39.082552], [176.026178, -39.082427], [176.026428, -39.082239], [176.026656, -39.082028], [176.026858, -39.081726], [176.026943, -39.081644], [176.027253, -39.081265], [176.027601, -39.080943], [176.027807, -39.080721], [176.028071, -39.080515], [176.028773, -39.080013], [176.029184, -39.079603], [176.029498, -39.079339], [176.03018, -39.078895], [176.030358, -39.078748], [176.030645, -39.078559], [176.030872, -39.078308], [176.031, -39.078207], [176.031079, -39.078166], [176.031167, -39.078147], [176.031233, -39.078151]]]}, 'properties': {'name': 'Te More', 'styleUrl': '#statistical-area-2-2018-generalisedId', 'styleHash': '-75a022a1', 'stroke': '#ffff00', 'stroke-opacity': 1, 'stroke-width': 2, 'fill': '#ffff00', 'fill-opacity': 0.4980392156862745, 'SA22018_V1_00': '190000', 'SA22018_V1_NAME': 'Te More', 'LAND_AREA_SQ_KM': '47.9225809', 'Shape_Length': '33420.011116', 'AREA_SQ_KM': '47.9225809'}}</td>\n    </tr>\n  </tbody>\n</table>\n</div>"
     },
     "metadata": {},
     "execution_count": 24
    }
   ],
   "source": [
    "sa2_gen_df.head(1)"
   ]
  },
  {
   "cell_type": "code",
   "execution_count": 25,
   "metadata": {},
   "outputs": [
    {
     "output_type": "execute_result",
     "data": {
      "text/plain": "array(['FeatureCollection'], dtype=object)"
     },
     "metadata": {},
     "execution_count": 25
    }
   ],
   "source": [
    "sa2_gen_df.type.unique()"
   ]
  },
  {
   "cell_type": "code",
   "execution_count": 26,
   "metadata": {},
   "outputs": [
    {
     "output_type": "execute_result",
     "data": {
      "text/plain": "(2237, 10)"
     },
     "metadata": {},
     "execution_count": 26
    }
   ],
   "source": [
    "features_df = json_normalize(sa2_gen_df['features'])\n",
    "features_df = features_df.drop(columns = ['properties.styleUrl','properties.styleHash','properties.stroke','properties.stroke-opacity','properties.stroke-width','properties.fill','properties.fill-opacity'])\n",
    "features_df.shape"
   ]
  },
  {
   "cell_type": "code",
   "execution_count": 27,
   "metadata": {},
   "outputs": [
    {
     "output_type": "execute_result",
     "data": {
      "text/plain": "      type geometry.type  \\\n0  Feature  Polygon        \n\n                                                                                                                                                                                                                                                                                                                                                                                                                                                                                                                                                                                                                                                                                                                                                                                                                                                                                                                                                                                                                                                                                                                                                                                                                                                                                                                                                                                                                                                                                                                                                                                                                                                                                                                                                                                                                                                                                                                                                                                                                                                                                                                                                                                                                                                                                                                                                                                                                                                                                                                                                                                                                                                                          geometry.coordinates  \\\n0  [[[176.031233, -39.078151], [176.031375, -39.078211], [176.031474, -39.078318], [176.031529, -39.078425], [176.031573, -39.078625], [176.031621, -39.07875], [176.031685, -39.079098], [176.031919, -39.0797], [176.031982, -39.080053], [176.031974, -39.080443], [176.031936, -39.080598], [176.031915, -39.081068], [176.031961, -39.081331], [176.031988, -39.081468], [176.032069, -39.081689], [176.032381, -39.082215], [176.032649, -39.082524], [176.032898, -39.082725], [176.033266, -39.082964], [176.033641, -39.083179], [176.034089, -39.083375], [176.034232, -39.083476], [176.034844, -39.083783], [176.035378, -39.084144], [176.035954, -39.084641], [176.036184, -39.084917], [176.036269, -39.085053], [176.03638, -39.085291], [176.036596, -39.086008], [176.036661, -39.086373], [176.036668, -39.086579], [176.036651, -39.086728], [176.036579, -39.086987], [176.036394, -39.087352], [176.036361, -39.087456], [176.036363, -39.087507], [176.036172, -39.087929], [176.036113, -39.088125], [176.035986, -39.088701], [176.035827, -39.089191], [176.035779, -39.089484], [176.035665, -39.089801], [176.03556, -39.089958], [176.035418, -39.090087], [176.035124, -39.090282], [176.034698, -39.09048], [176.034226, -39.090651], [176.033881, -39.090859], [176.033574, -39.091117], [176.033091, -39.091356], [176.032903, -39.091435], [176.032421, -39.09172], [176.032221, -39.091879], [176.032101, -39.092025], [176.032059, -39.092089], [176.031965, -39.092343], [176.031929, -39.092561], [176.031958, -39.092766], [176.031993, -39.092915], [176.032186, -39.093391], [176.032221, -39.093557], [176.032335, -39.094717], [176.032305, -39.095554], [176.032323, -39.095622], [176.032395, -39.097069], [176.032355, -39.098215], [176.032271, -39.098961], [176.032286, -39.09919], [176.03232, -39.099321], [176.032344, -39.099384], [176.032459, -39.099513], [176.032534, -39.099563], [176.032675, -39.099606], [176.032851, -39.099585], [176.033003, -39.09953], [176.033883, -39.099064], [176.034076, -39.09894], [176.0351, -39.098403], [176.03531, -39.098318], [176.03566, -39.098248], [176.036137, -39.098238], [176.036565, -39.098291], [176.036816, -39.098326], [176.037046, -39.098384], [176.037629, -39.098481], [176.03774, -39.098512], [176.037968, -39.098525], [176.038779, -39.098611], [176.039171, -39.098688], [176.039725, -39.098762], [176.040117, -39.098862], [176.0404, -39.098982], [176.041944, -39.099453], [176.042056, -39.099502], [176.042446, -39.099729], [176.042778, -39.099962], [176.043432, -39.100601], [176.043595, -39.10085], [176.043634, -39.10094], [176.043686, -39.101157], ...]]   \n\n  properties.name properties.SA22018_V1_00 properties.SA22018_V1_NAME  \\\n0  Te More         190000                   Te More                     \n\n  properties.LAND_AREA_SQ_KM properties.Shape_Length properties.AREA_SQ_KM  \\\n0  47.9225809                 33420.011116            47.9225809             \n\n  geometry.geometries  \n0  NaN                 ",
      "text/html": "<div>\n<style scoped>\n    .dataframe tbody tr th:only-of-type {\n        vertical-align: middle;\n    }\n\n    .dataframe tbody tr th {\n        vertical-align: top;\n    }\n\n    .dataframe thead th {\n        text-align: right;\n    }\n</style>\n<table border=\"1\" class=\"dataframe\">\n  <thead>\n    <tr style=\"text-align: right;\">\n      <th></th>\n      <th>type</th>\n      <th>geometry.type</th>\n      <th>geometry.coordinates</th>\n      <th>properties.name</th>\n      <th>properties.SA22018_V1_00</th>\n      <th>properties.SA22018_V1_NAME</th>\n      <th>properties.LAND_AREA_SQ_KM</th>\n      <th>properties.Shape_Length</th>\n      <th>properties.AREA_SQ_KM</th>\n      <th>geometry.geometries</th>\n    </tr>\n  </thead>\n  <tbody>\n    <tr>\n      <th>0</th>\n      <td>Feature</td>\n      <td>Polygon</td>\n      <td>[[[176.031233, -39.078151], [176.031375, -39.078211], [176.031474, -39.078318], [176.031529, -39.078425], [176.031573, -39.078625], [176.031621, -39.07875], [176.031685, -39.079098], [176.031919, -39.0797], [176.031982, -39.080053], [176.031974, -39.080443], [176.031936, -39.080598], [176.031915, -39.081068], [176.031961, -39.081331], [176.031988, -39.081468], [176.032069, -39.081689], [176.032381, -39.082215], [176.032649, -39.082524], [176.032898, -39.082725], [176.033266, -39.082964], [176.033641, -39.083179], [176.034089, -39.083375], [176.034232, -39.083476], [176.034844, -39.083783], [176.035378, -39.084144], [176.035954, -39.084641], [176.036184, -39.084917], [176.036269, -39.085053], [176.03638, -39.085291], [176.036596, -39.086008], [176.036661, -39.086373], [176.036668, -39.086579], [176.036651, -39.086728], [176.036579, -39.086987], [176.036394, -39.087352], [176.036361, -39.087456], [176.036363, -39.087507], [176.036172, -39.087929], [176.036113, -39.088125], [176.035986, -39.088701], [176.035827, -39.089191], [176.035779, -39.089484], [176.035665, -39.089801], [176.03556, -39.089958], [176.035418, -39.090087], [176.035124, -39.090282], [176.034698, -39.09048], [176.034226, -39.090651], [176.033881, -39.090859], [176.033574, -39.091117], [176.033091, -39.091356], [176.032903, -39.091435], [176.032421, -39.09172], [176.032221, -39.091879], [176.032101, -39.092025], [176.032059, -39.092089], [176.031965, -39.092343], [176.031929, -39.092561], [176.031958, -39.092766], [176.031993, -39.092915], [176.032186, -39.093391], [176.032221, -39.093557], [176.032335, -39.094717], [176.032305, -39.095554], [176.032323, -39.095622], [176.032395, -39.097069], [176.032355, -39.098215], [176.032271, -39.098961], [176.032286, -39.09919], [176.03232, -39.099321], [176.032344, -39.099384], [176.032459, -39.099513], [176.032534, -39.099563], [176.032675, -39.099606], [176.032851, -39.099585], [176.033003, -39.09953], [176.033883, -39.099064], [176.034076, -39.09894], [176.0351, -39.098403], [176.03531, -39.098318], [176.03566, -39.098248], [176.036137, -39.098238], [176.036565, -39.098291], [176.036816, -39.098326], [176.037046, -39.098384], [176.037629, -39.098481], [176.03774, -39.098512], [176.037968, -39.098525], [176.038779, -39.098611], [176.039171, -39.098688], [176.039725, -39.098762], [176.040117, -39.098862], [176.0404, -39.098982], [176.041944, -39.099453], [176.042056, -39.099502], [176.042446, -39.099729], [176.042778, -39.099962], [176.043432, -39.100601], [176.043595, -39.10085], [176.043634, -39.10094], [176.043686, -39.101157], ...]]</td>\n      <td>Te More</td>\n      <td>190000</td>\n      <td>Te More</td>\n      <td>47.9225809</td>\n      <td>33420.011116</td>\n      <td>47.9225809</td>\n      <td>NaN</td>\n    </tr>\n  </tbody>\n</table>\n</div>"
     },
     "metadata": {},
     "execution_count": 27
    }
   ],
   "source": [
    "features_df.head(1)"
   ]
  },
  {
   "cell_type": "code",
   "execution_count": 28,
   "metadata": {},
   "outputs": [
    {
     "output_type": "execute_result",
     "data": {
      "text/plain": "(2157, 10)"
     },
     "metadata": {},
     "execution_count": 28
    }
   ],
   "source": [
    "land_df = features_df[pd.to_numeric(features_df['properties.LAND_AREA_SQ_KM']) > 0]\n",
    "land_df.shape"
   ]
  },
  {
   "cell_type": "code",
   "execution_count": 29,
   "metadata": {},
   "outputs": [
    {
     "output_type": "execute_result",
     "data": {
      "text/plain": "      type geometry.type  \\\n0  Feature  Polygon        \n\n                                                                                                                                                                                                                                                                                                                                                                                                                                                                                                                                                                                                                                                                                                                                                                                                                                                                                                                                                                                                                                                                                                                                                                                                                                                                                                                                                                                                                                                                                                                                                                                                                                                                                                                                                                                                                                                                                                                                                                                                                                                                                                                                                                                                                                                                                                                                                                                                                                                                                                                                                                                                                                                                          geometry.coordinates  \\\n0  [[[176.031233, -39.078151], [176.031375, -39.078211], [176.031474, -39.078318], [176.031529, -39.078425], [176.031573, -39.078625], [176.031621, -39.07875], [176.031685, -39.079098], [176.031919, -39.0797], [176.031982, -39.080053], [176.031974, -39.080443], [176.031936, -39.080598], [176.031915, -39.081068], [176.031961, -39.081331], [176.031988, -39.081468], [176.032069, -39.081689], [176.032381, -39.082215], [176.032649, -39.082524], [176.032898, -39.082725], [176.033266, -39.082964], [176.033641, -39.083179], [176.034089, -39.083375], [176.034232, -39.083476], [176.034844, -39.083783], [176.035378, -39.084144], [176.035954, -39.084641], [176.036184, -39.084917], [176.036269, -39.085053], [176.03638, -39.085291], [176.036596, -39.086008], [176.036661, -39.086373], [176.036668, -39.086579], [176.036651, -39.086728], [176.036579, -39.086987], [176.036394, -39.087352], [176.036361, -39.087456], [176.036363, -39.087507], [176.036172, -39.087929], [176.036113, -39.088125], [176.035986, -39.088701], [176.035827, -39.089191], [176.035779, -39.089484], [176.035665, -39.089801], [176.03556, -39.089958], [176.035418, -39.090087], [176.035124, -39.090282], [176.034698, -39.09048], [176.034226, -39.090651], [176.033881, -39.090859], [176.033574, -39.091117], [176.033091, -39.091356], [176.032903, -39.091435], [176.032421, -39.09172], [176.032221, -39.091879], [176.032101, -39.092025], [176.032059, -39.092089], [176.031965, -39.092343], [176.031929, -39.092561], [176.031958, -39.092766], [176.031993, -39.092915], [176.032186, -39.093391], [176.032221, -39.093557], [176.032335, -39.094717], [176.032305, -39.095554], [176.032323, -39.095622], [176.032395, -39.097069], [176.032355, -39.098215], [176.032271, -39.098961], [176.032286, -39.09919], [176.03232, -39.099321], [176.032344, -39.099384], [176.032459, -39.099513], [176.032534, -39.099563], [176.032675, -39.099606], [176.032851, -39.099585], [176.033003, -39.09953], [176.033883, -39.099064], [176.034076, -39.09894], [176.0351, -39.098403], [176.03531, -39.098318], [176.03566, -39.098248], [176.036137, -39.098238], [176.036565, -39.098291], [176.036816, -39.098326], [176.037046, -39.098384], [176.037629, -39.098481], [176.03774, -39.098512], [176.037968, -39.098525], [176.038779, -39.098611], [176.039171, -39.098688], [176.039725, -39.098762], [176.040117, -39.098862], [176.0404, -39.098982], [176.041944, -39.099453], [176.042056, -39.099502], [176.042446, -39.099729], [176.042778, -39.099962], [176.043432, -39.100601], [176.043595, -39.10085], [176.043634, -39.10094], [176.043686, -39.101157], ...]]   \n\n  properties.name properties.SA22018_V1_00 properties.SA22018_V1_NAME  \\\n0  Te More         190000                   Te More                     \n\n  properties.LAND_AREA_SQ_KM properties.Shape_Length properties.AREA_SQ_KM  \\\n0  47.9225809                 33420.011116            47.9225809             \n\n  geometry.geometries  \n0  NaN                 ",
      "text/html": "<div>\n<style scoped>\n    .dataframe tbody tr th:only-of-type {\n        vertical-align: middle;\n    }\n\n    .dataframe tbody tr th {\n        vertical-align: top;\n    }\n\n    .dataframe thead th {\n        text-align: right;\n    }\n</style>\n<table border=\"1\" class=\"dataframe\">\n  <thead>\n    <tr style=\"text-align: right;\">\n      <th></th>\n      <th>type</th>\n      <th>geometry.type</th>\n      <th>geometry.coordinates</th>\n      <th>properties.name</th>\n      <th>properties.SA22018_V1_00</th>\n      <th>properties.SA22018_V1_NAME</th>\n      <th>properties.LAND_AREA_SQ_KM</th>\n      <th>properties.Shape_Length</th>\n      <th>properties.AREA_SQ_KM</th>\n      <th>geometry.geometries</th>\n    </tr>\n  </thead>\n  <tbody>\n    <tr>\n      <th>0</th>\n      <td>Feature</td>\n      <td>Polygon</td>\n      <td>[[[176.031233, -39.078151], [176.031375, -39.078211], [176.031474, -39.078318], [176.031529, -39.078425], [176.031573, -39.078625], [176.031621, -39.07875], [176.031685, -39.079098], [176.031919, -39.0797], [176.031982, -39.080053], [176.031974, -39.080443], [176.031936, -39.080598], [176.031915, -39.081068], [176.031961, -39.081331], [176.031988, -39.081468], [176.032069, -39.081689], [176.032381, -39.082215], [176.032649, -39.082524], [176.032898, -39.082725], [176.033266, -39.082964], [176.033641, -39.083179], [176.034089, -39.083375], [176.034232, -39.083476], [176.034844, -39.083783], [176.035378, -39.084144], [176.035954, -39.084641], [176.036184, -39.084917], [176.036269, -39.085053], [176.03638, -39.085291], [176.036596, -39.086008], [176.036661, -39.086373], [176.036668, -39.086579], [176.036651, -39.086728], [176.036579, -39.086987], [176.036394, -39.087352], [176.036361, -39.087456], [176.036363, -39.087507], [176.036172, -39.087929], [176.036113, -39.088125], [176.035986, -39.088701], [176.035827, -39.089191], [176.035779, -39.089484], [176.035665, -39.089801], [176.03556, -39.089958], [176.035418, -39.090087], [176.035124, -39.090282], [176.034698, -39.09048], [176.034226, -39.090651], [176.033881, -39.090859], [176.033574, -39.091117], [176.033091, -39.091356], [176.032903, -39.091435], [176.032421, -39.09172], [176.032221, -39.091879], [176.032101, -39.092025], [176.032059, -39.092089], [176.031965, -39.092343], [176.031929, -39.092561], [176.031958, -39.092766], [176.031993, -39.092915], [176.032186, -39.093391], [176.032221, -39.093557], [176.032335, -39.094717], [176.032305, -39.095554], [176.032323, -39.095622], [176.032395, -39.097069], [176.032355, -39.098215], [176.032271, -39.098961], [176.032286, -39.09919], [176.03232, -39.099321], [176.032344, -39.099384], [176.032459, -39.099513], [176.032534, -39.099563], [176.032675, -39.099606], [176.032851, -39.099585], [176.033003, -39.09953], [176.033883, -39.099064], [176.034076, -39.09894], [176.0351, -39.098403], [176.03531, -39.098318], [176.03566, -39.098248], [176.036137, -39.098238], [176.036565, -39.098291], [176.036816, -39.098326], [176.037046, -39.098384], [176.037629, -39.098481], [176.03774, -39.098512], [176.037968, -39.098525], [176.038779, -39.098611], [176.039171, -39.098688], [176.039725, -39.098762], [176.040117, -39.098862], [176.0404, -39.098982], [176.041944, -39.099453], [176.042056, -39.099502], [176.042446, -39.099729], [176.042778, -39.099962], [176.043432, -39.100601], [176.043595, -39.10085], [176.043634, -39.10094], [176.043686, -39.101157], ...]]</td>\n      <td>Te More</td>\n      <td>190000</td>\n      <td>Te More</td>\n      <td>47.9225809</td>\n      <td>33420.011116</td>\n      <td>47.9225809</td>\n      <td>NaN</td>\n    </tr>\n  </tbody>\n</table>\n</div>"
     },
     "metadata": {},
     "execution_count": 29
    }
   ],
   "source": [
    "land_df.head(1)"
   ]
  },
  {
   "cell_type": "code",
   "execution_count": 30,
   "metadata": {},
   "outputs": [
    {
     "output_type": "execute_result",
     "data": {
      "text/plain": "      name SA22018_V1_00 SA22018_V1_NAME LAND_AREA_SQ_KM  Shape_Length  \\\n0  Te More  190000        Te More         47.9225809      33420.011116   \n\n   AREA_SQ_KM  \n0  47.9225809  ",
      "text/html": "<div>\n<style scoped>\n    .dataframe tbody tr th:only-of-type {\n        vertical-align: middle;\n    }\n\n    .dataframe tbody tr th {\n        vertical-align: top;\n    }\n\n    .dataframe thead th {\n        text-align: right;\n    }\n</style>\n<table border=\"1\" class=\"dataframe\">\n  <thead>\n    <tr style=\"text-align: right;\">\n      <th></th>\n      <th>name</th>\n      <th>SA22018_V1_00</th>\n      <th>SA22018_V1_NAME</th>\n      <th>LAND_AREA_SQ_KM</th>\n      <th>Shape_Length</th>\n      <th>AREA_SQ_KM</th>\n    </tr>\n  </thead>\n  <tbody>\n    <tr>\n      <th>0</th>\n      <td>Te More</td>\n      <td>190000</td>\n      <td>Te More</td>\n      <td>47.9225809</td>\n      <td>33420.011116</td>\n      <td>47.9225809</td>\n    </tr>\n  </tbody>\n</table>\n</div>"
     },
     "metadata": {},
     "execution_count": 30
    }
   ],
   "source": [
    "properties_df = pd.concat(\n",
    "    [land_df['properties.name'], land_df['properties.SA22018_V1_00'], land_df['properties.SA22018_V1_NAME'], land_df['properties.LAND_AREA_SQ_KM'], land_df['properties.Shape_Length'], land_df['properties.AREA_SQ_KM']],\n",
    "    axis = 1,\n",
    "    keys = ['name', 'SA22018_V1_00', 'SA22018_V1_NAME', 'LAND_AREA_SQ_KM', 'Shape_Length', 'AREA_SQ_KM']\n",
    "    )\n",
    "properties_df.head(1)"
   ]
  },
  {
   "cell_type": "code",
   "execution_count": 31,
   "metadata": {},
   "outputs": [
    {
     "output_type": "execute_result",
     "data": {
      "text/plain": "      type  \\\n0  Polygon   \n\n                                                                                                                                                                                                                                                                                                                                                                                                                                                                                                                                                                                                                                                                                                                                                                                                                                                                                                                                                                                                                                                                                                                                                                                                                                                                                                                                                                                                                                                                                                                                                                                                                                                                                                                                                                                                                                                                                                                                                                                                                                                                                                                                                                                                                                                                                                                                                                                                                                                                                                                                                                                                                                                                                   coordinates  \\\n0  [[[176.031233, -39.078151], [176.031375, -39.078211], [176.031474, -39.078318], [176.031529, -39.078425], [176.031573, -39.078625], [176.031621, -39.07875], [176.031685, -39.079098], [176.031919, -39.0797], [176.031982, -39.080053], [176.031974, -39.080443], [176.031936, -39.080598], [176.031915, -39.081068], [176.031961, -39.081331], [176.031988, -39.081468], [176.032069, -39.081689], [176.032381, -39.082215], [176.032649, -39.082524], [176.032898, -39.082725], [176.033266, -39.082964], [176.033641, -39.083179], [176.034089, -39.083375], [176.034232, -39.083476], [176.034844, -39.083783], [176.035378, -39.084144], [176.035954, -39.084641], [176.036184, -39.084917], [176.036269, -39.085053], [176.03638, -39.085291], [176.036596, -39.086008], [176.036661, -39.086373], [176.036668, -39.086579], [176.036651, -39.086728], [176.036579, -39.086987], [176.036394, -39.087352], [176.036361, -39.087456], [176.036363, -39.087507], [176.036172, -39.087929], [176.036113, -39.088125], [176.035986, -39.088701], [176.035827, -39.089191], [176.035779, -39.089484], [176.035665, -39.089801], [176.03556, -39.089958], [176.035418, -39.090087], [176.035124, -39.090282], [176.034698, -39.09048], [176.034226, -39.090651], [176.033881, -39.090859], [176.033574, -39.091117], [176.033091, -39.091356], [176.032903, -39.091435], [176.032421, -39.09172], [176.032221, -39.091879], [176.032101, -39.092025], [176.032059, -39.092089], [176.031965, -39.092343], [176.031929, -39.092561], [176.031958, -39.092766], [176.031993, -39.092915], [176.032186, -39.093391], [176.032221, -39.093557], [176.032335, -39.094717], [176.032305, -39.095554], [176.032323, -39.095622], [176.032395, -39.097069], [176.032355, -39.098215], [176.032271, -39.098961], [176.032286, -39.09919], [176.03232, -39.099321], [176.032344, -39.099384], [176.032459, -39.099513], [176.032534, -39.099563], [176.032675, -39.099606], [176.032851, -39.099585], [176.033003, -39.09953], [176.033883, -39.099064], [176.034076, -39.09894], [176.0351, -39.098403], [176.03531, -39.098318], [176.03566, -39.098248], [176.036137, -39.098238], [176.036565, -39.098291], [176.036816, -39.098326], [176.037046, -39.098384], [176.037629, -39.098481], [176.03774, -39.098512], [176.037968, -39.098525], [176.038779, -39.098611], [176.039171, -39.098688], [176.039725, -39.098762], [176.040117, -39.098862], [176.0404, -39.098982], [176.041944, -39.099453], [176.042056, -39.099502], [176.042446, -39.099729], [176.042778, -39.099962], [176.043432, -39.100601], [176.043595, -39.10085], [176.043634, -39.10094], [176.043686, -39.101157], ...]]   \n\n  geometries  \n0  NaN        ",
      "text/html": "<div>\n<style scoped>\n    .dataframe tbody tr th:only-of-type {\n        vertical-align: middle;\n    }\n\n    .dataframe tbody tr th {\n        vertical-align: top;\n    }\n\n    .dataframe thead th {\n        text-align: right;\n    }\n</style>\n<table border=\"1\" class=\"dataframe\">\n  <thead>\n    <tr style=\"text-align: right;\">\n      <th></th>\n      <th>type</th>\n      <th>coordinates</th>\n      <th>geometries</th>\n    </tr>\n  </thead>\n  <tbody>\n    <tr>\n      <th>0</th>\n      <td>Polygon</td>\n      <td>[[[176.031233, -39.078151], [176.031375, -39.078211], [176.031474, -39.078318], [176.031529, -39.078425], [176.031573, -39.078625], [176.031621, -39.07875], [176.031685, -39.079098], [176.031919, -39.0797], [176.031982, -39.080053], [176.031974, -39.080443], [176.031936, -39.080598], [176.031915, -39.081068], [176.031961, -39.081331], [176.031988, -39.081468], [176.032069, -39.081689], [176.032381, -39.082215], [176.032649, -39.082524], [176.032898, -39.082725], [176.033266, -39.082964], [176.033641, -39.083179], [176.034089, -39.083375], [176.034232, -39.083476], [176.034844, -39.083783], [176.035378, -39.084144], [176.035954, -39.084641], [176.036184, -39.084917], [176.036269, -39.085053], [176.03638, -39.085291], [176.036596, -39.086008], [176.036661, -39.086373], [176.036668, -39.086579], [176.036651, -39.086728], [176.036579, -39.086987], [176.036394, -39.087352], [176.036361, -39.087456], [176.036363, -39.087507], [176.036172, -39.087929], [176.036113, -39.088125], [176.035986, -39.088701], [176.035827, -39.089191], [176.035779, -39.089484], [176.035665, -39.089801], [176.03556, -39.089958], [176.035418, -39.090087], [176.035124, -39.090282], [176.034698, -39.09048], [176.034226, -39.090651], [176.033881, -39.090859], [176.033574, -39.091117], [176.033091, -39.091356], [176.032903, -39.091435], [176.032421, -39.09172], [176.032221, -39.091879], [176.032101, -39.092025], [176.032059, -39.092089], [176.031965, -39.092343], [176.031929, -39.092561], [176.031958, -39.092766], [176.031993, -39.092915], [176.032186, -39.093391], [176.032221, -39.093557], [176.032335, -39.094717], [176.032305, -39.095554], [176.032323, -39.095622], [176.032395, -39.097069], [176.032355, -39.098215], [176.032271, -39.098961], [176.032286, -39.09919], [176.03232, -39.099321], [176.032344, -39.099384], [176.032459, -39.099513], [176.032534, -39.099563], [176.032675, -39.099606], [176.032851, -39.099585], [176.033003, -39.09953], [176.033883, -39.099064], [176.034076, -39.09894], [176.0351, -39.098403], [176.03531, -39.098318], [176.03566, -39.098248], [176.036137, -39.098238], [176.036565, -39.098291], [176.036816, -39.098326], [176.037046, -39.098384], [176.037629, -39.098481], [176.03774, -39.098512], [176.037968, -39.098525], [176.038779, -39.098611], [176.039171, -39.098688], [176.039725, -39.098762], [176.040117, -39.098862], [176.0404, -39.098982], [176.041944, -39.099453], [176.042056, -39.099502], [176.042446, -39.099729], [176.042778, -39.099962], [176.043432, -39.100601], [176.043595, -39.10085], [176.043634, -39.10094], [176.043686, -39.101157], ...]]</td>\n      <td>NaN</td>\n    </tr>\n  </tbody>\n</table>\n</div>"
     },
     "metadata": {},
     "execution_count": 31
    }
   ],
   "source": [
    "geometries_df = pd.concat(\n",
    "    [land_df['geometry.type'], land_df['geometry.coordinates'], land_df['geometry.geometries']],\n",
    "    axis = 1,\n",
    "    keys = ['type', 'coordinates', 'geometries']\n",
    ")\n",
    "geometries_df.head(1)"
   ]
  },
  {
   "cell_type": "code",
   "execution_count": 32,
   "metadata": {},
   "outputs": [
    {
     "output_type": "execute_result",
     "data": {
      "text/plain": "                                                                                                                                                                  properties  \\\n                                                                                                                                                                               \n0  {'name': 'Te More', 'SA22018_V1_00': '190000', 'SA22018_V1_NAME': 'Te More', 'LAND_AREA_SQ_KM': '47.9225809', 'Shape_Length': '33420.011116', 'AREA_SQ_KM': '47.9225809'}   \n\n                                                                                                                                                                                                                                                                                                                                                                                                                                                                                                                                                                                                                                                                                                                                                                                                                                                                                                                                                                                                                                                                                                                                                                                                                                                                                                                                                                                                                                                                                                                                                                                                                                                                                                                                                                                                                                                                                                                                                                                                                                                                                                                                                                                                                                                                                                                                                                                                                                                                                                                                                                                                                                                                                                                                             geometry  \\\n                                                                                                                                                                                                                                                                                                                                                                                                                                                                                                                                                                                                                                                                                                                                                                                                                                                                                                                                                                                                                                                                                                                                                                                                                                                                                                                                                                                                                                                                                                                                                                                                                                                                                                                                                                                                                                                                                                                                                                                                                                                                                                                                                                                                                                                                                                                                                                                                                                                                                                                                                                                                                                                                                                                                                        \n0  {'type': 'Polygon', 'coordinates': [[[176.031233, -39.078151], [176.031375, -39.078211], [176.031474, -39.078318], [176.031529, -39.078425], [176.031573, -39.078625], [176.031621, -39.07875], [176.031685, -39.079098], [176.031919, -39.0797], [176.031982, -39.080053], [176.031974, -39.080443], [176.031936, -39.080598], [176.031915, -39.081068], [176.031961, -39.081331], [176.031988, -39.081468], [176.032069, -39.081689], [176.032381, -39.082215], [176.032649, -39.082524], [176.032898, -39.082725], [176.033266, -39.082964], [176.033641, -39.083179], [176.034089, -39.083375], [176.034232, -39.083476], [176.034844, -39.083783], [176.035378, -39.084144], [176.035954, -39.084641], [176.036184, -39.084917], [176.036269, -39.085053], [176.03638, -39.085291], [176.036596, -39.086008], [176.036661, -39.086373], [176.036668, -39.086579], [176.036651, -39.086728], [176.036579, -39.086987], [176.036394, -39.087352], [176.036361, -39.087456], [176.036363, -39.087507], [176.036172, -39.087929], [176.036113, -39.088125], [176.035986, -39.088701], [176.035827, -39.089191], [176.035779, -39.089484], [176.035665, -39.089801], [176.03556, -39.089958], [176.035418, -39.090087], [176.035124, -39.090282], [176.034698, -39.09048], [176.034226, -39.090651], [176.033881, -39.090859], [176.033574, -39.091117], [176.033091, -39.091356], [176.032903, -39.091435], [176.032421, -39.09172], [176.032221, -39.091879], [176.032101, -39.092025], [176.032059, -39.092089], [176.031965, -39.092343], [176.031929, -39.092561], [176.031958, -39.092766], [176.031993, -39.092915], [176.032186, -39.093391], [176.032221, -39.093557], [176.032335, -39.094717], [176.032305, -39.095554], [176.032323, -39.095622], [176.032395, -39.097069], [176.032355, -39.098215], [176.032271, -39.098961], [176.032286, -39.09919], [176.03232, -39.099321], [176.032344, -39.099384], [176.032459, -39.099513], [176.032534, -39.099563], [176.032675, -39.099606], [176.032851, -39.099585], [176.033003, -39.09953], [176.033883, -39.099064], [176.034076, -39.09894], [176.0351, -39.098403], [176.03531, -39.098318], [176.03566, -39.098248], [176.036137, -39.098238], [176.036565, -39.098291], [176.036816, -39.098326], [176.037046, -39.098384], [176.037629, -39.098481], [176.03774, -39.098512], [176.037968, -39.098525], [176.038779, -39.098611], [176.039171, -39.098688], [176.039725, -39.098762], [176.040117, -39.098862], [176.0404, -39.098982], [176.041944, -39.099453], [176.042056, -39.099502], [176.042446, -39.099729], [176.042778, -39.099962], [176.043432, -39.100601], [176.043595, -39.10085], [176.043634, -39.10094], [176.043686, -39.101157], ...]], 'geometries': nan}   \n\n      type  \n            \n0  Feature  ",
      "text/html": "<div>\n<style scoped>\n    .dataframe tbody tr th:only-of-type {\n        vertical-align: middle;\n    }\n\n    .dataframe tbody tr th {\n        vertical-align: top;\n    }\n\n    .dataframe thead tr th {\n        text-align: left;\n    }\n</style>\n<table border=\"1\" class=\"dataframe\">\n  <thead>\n    <tr>\n      <th></th>\n      <th>properties</th>\n      <th>geometry</th>\n      <th>type</th>\n    </tr>\n    <tr>\n      <th></th>\n      <th></th>\n      <th></th>\n      <th></th>\n    </tr>\n  </thead>\n  <tbody>\n    <tr>\n      <th>0</th>\n      <td>{'name': 'Te More', 'SA22018_V1_00': '190000', 'SA22018_V1_NAME': 'Te More', 'LAND_AREA_SQ_KM': '47.9225809', 'Shape_Length': '33420.011116', 'AREA_SQ_KM': '47.9225809'}</td>\n      <td>{'type': 'Polygon', 'coordinates': [[[176.031233, -39.078151], [176.031375, -39.078211], [176.031474, -39.078318], [176.031529, -39.078425], [176.031573, -39.078625], [176.031621, -39.07875], [176.031685, -39.079098], [176.031919, -39.0797], [176.031982, -39.080053], [176.031974, -39.080443], [176.031936, -39.080598], [176.031915, -39.081068], [176.031961, -39.081331], [176.031988, -39.081468], [176.032069, -39.081689], [176.032381, -39.082215], [176.032649, -39.082524], [176.032898, -39.082725], [176.033266, -39.082964], [176.033641, -39.083179], [176.034089, -39.083375], [176.034232, -39.083476], [176.034844, -39.083783], [176.035378, -39.084144], [176.035954, -39.084641], [176.036184, -39.084917], [176.036269, -39.085053], [176.03638, -39.085291], [176.036596, -39.086008], [176.036661, -39.086373], [176.036668, -39.086579], [176.036651, -39.086728], [176.036579, -39.086987], [176.036394, -39.087352], [176.036361, -39.087456], [176.036363, -39.087507], [176.036172, -39.087929], [176.036113, -39.088125], [176.035986, -39.088701], [176.035827, -39.089191], [176.035779, -39.089484], [176.035665, -39.089801], [176.03556, -39.089958], [176.035418, -39.090087], [176.035124, -39.090282], [176.034698, -39.09048], [176.034226, -39.090651], [176.033881, -39.090859], [176.033574, -39.091117], [176.033091, -39.091356], [176.032903, -39.091435], [176.032421, -39.09172], [176.032221, -39.091879], [176.032101, -39.092025], [176.032059, -39.092089], [176.031965, -39.092343], [176.031929, -39.092561], [176.031958, -39.092766], [176.031993, -39.092915], [176.032186, -39.093391], [176.032221, -39.093557], [176.032335, -39.094717], [176.032305, -39.095554], [176.032323, -39.095622], [176.032395, -39.097069], [176.032355, -39.098215], [176.032271, -39.098961], [176.032286, -39.09919], [176.03232, -39.099321], [176.032344, -39.099384], [176.032459, -39.099513], [176.032534, -39.099563], [176.032675, -39.099606], [176.032851, -39.099585], [176.033003, -39.09953], [176.033883, -39.099064], [176.034076, -39.09894], [176.0351, -39.098403], [176.03531, -39.098318], [176.03566, -39.098248], [176.036137, -39.098238], [176.036565, -39.098291], [176.036816, -39.098326], [176.037046, -39.098384], [176.037629, -39.098481], [176.03774, -39.098512], [176.037968, -39.098525], [176.038779, -39.098611], [176.039171, -39.098688], [176.039725, -39.098762], [176.040117, -39.098862], [176.0404, -39.098982], [176.041944, -39.099453], [176.042056, -39.099502], [176.042446, -39.099729], [176.042778, -39.099962], [176.043432, -39.100601], [176.043595, -39.10085], [176.043634, -39.10094], [176.043686, -39.101157], ...]], 'geometries': nan}</td>\n      <td>Feature</td>\n    </tr>\n  </tbody>\n</table>\n</div>"
     },
     "metadata": {},
     "execution_count": 32
    }
   ],
   "source": [
    "out_df = pd.concat([properties_df, geometries_df], axis = 1, keys = ['properties', 'geometry'])\n",
    "out_df['p2'] = out_df['properties'].to_dict(orient = 'records')\n",
    "out_df['g2'] = out_df['geometry'].to_dict(orient = 'records')\n",
    "out_df['type'] = 'Feature'\n",
    "\n",
    "out_df = out_df.drop(columns = ['properties', 'geometry']) \\\n",
    "            .rename(columns = {'p2': 'properties', 'g2': 'geometry'})\n",
    "out_df.head(1)"
   ]
  },
  {
   "cell_type": "code",
   "execution_count": 33,
   "metadata": {},
   "outputs": [
    {
     "output_type": "execute_result",
     "data": {
      "text/plain": "(2157, 3)"
     },
     "metadata": {},
     "execution_count": 33
    }
   ],
   "source": [
    "out_df = pd.concat([out_df['type'], out_df['properties'], out_df['geometry']], axis = 1, keys = ['type', 'properties', 'geometry'])\n",
    "out_df.shape"
   ]
  },
  {
   "cell_type": "code",
   "execution_count": 34,
   "metadata": {
    "tags": []
   },
   "outputs": [
    {
     "output_type": "stream",
     "name": "stdout",
     "text": "Index(['type', 'properties', 'geometry'], dtype='object')\n"
    }
   ],
   "source": [
    "print(out_df.columns)"
   ]
  },
  {
   "cell_type": "code",
   "execution_count": 35,
   "metadata": {},
   "outputs": [],
   "source": [
    "data = out_df.to_json(orient = 'records')\n",
    "data = remove_null_bool(data)\n",
    "data = '{\"type\": \"FeatureCollection\", \"features\": [' + data + ']}'\n",
    "with open(f'{outdir}/sa2_2018_generalised.geojson', 'w', encoding = 'utf-8') as fg:\n",
    "    fg.write(data)"
   ]
  },
  {
   "cell_type": "code",
   "execution_count": null,
   "metadata": {},
   "outputs": [],
   "source": []
  },
  {
   "cell_type": "code",
   "execution_count": null,
   "metadata": {},
   "outputs": [],
   "source": []
  }
 ],
 "metadata": {
  "language_info": {
   "codemirror_mode": {
    "name": "ipython",
    "version": 3
   },
   "file_extension": ".py",
   "mimetype": "text/x-python",
   "name": "python",
   "nbconvert_exporter": "python",
   "pygments_lexer": "ipython3",
   "version": "3.8.3-final"
  },
  "orig_nbformat": 2,
  "kernelspec": {
   "name": "python38364bitpandasconda9374f366cccd4039b07df4e88c2af5d0",
   "display_name": "Python 3.8.3 64-bit ('pandas': conda)"
  }
 },
 "nbformat": 4,
 "nbformat_minor": 2
}